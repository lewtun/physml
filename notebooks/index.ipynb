{
 "cells": [
  {
   "cell_type": "markdown",
   "metadata": {},
   "source": [
    "# Practical Machine Learning for Particle Physicists\n",
    "\n",
    "> Welcome to the materials for the University of Bern's graduate course on machine learning!"
   ]
  },
  {
   "cell_type": "markdown",
   "metadata": {},
   "source": [
    "## What is this thing called machine learning?"
   ]
  },
  {
   "cell_type": "markdown",
   "metadata": {},
   "source": [
    "## Learning objectives of the course\n",
    "This module provides students with a _hands-on_ introduction to the methods of data science, with an emphasis on applying these methods to solve business problems. By the end of this course, it is expected that students will:\n",
    "\n",
    "* Know how to approach business problems from a data science perspective;\n",
    "* Understand the fundamental principles behind extracting useful knowledge from data; \n",
    "* Understand the core concepts and terminology of machine learning;\n",
    "* Gain hands-on experience with mining data for insights.\n",
    "\n",
    "Throughout the course, students will also have the opportunity to learn several technical skills:\n",
    "\n",
    "* Python programming and experience with the core libaries for data analysis, visualisation, and modelling.\n",
    "* Working with data: collecting, cleaning, and transforming.\n",
    "* Creating and interpreting descriptive statistics.\n",
    "* Creating and interpreting data visualisations.\n",
    "* Practical experience with machine learning."
   ]
  },
  {
   "cell_type": "markdown",
   "metadata": {},
   "source": [
    "## Structure of the course\n",
    "The module structure consists of classroom sessions, self-study tasks, and group work. The classroom sessions will involve a mix of theoretical and practical (programming) work, with an emphasis on the latter. The self-study tasks will be used to read selected chapters from the module textbook. The outline for the module is shown in the table below. \n",
    "\n",
    "| CW | Date | Topic | Links |\n",
    "| :--- | :--- | :--- | :--- |\n",
    "| 8 | 20.02 | Introduction to data science | [![Binder](https://mybinder.org/badge_logo.svg)](https://mybinder.org/v2/gh/lewtun/dslectures/master?urlpath=lab/tree/notebooks/lesson01_intro-to-pandas.ipynb) [![notebook](https://img.shields.io/static/v1?label=notebook&message=lesson01_intro-to-pandas.ipynb&color=red&logo=Jupyter)](https://raw.githubusercontent.com/lewtun/dslectures/master/notebooks/lesson01_intro-to-pandas.ipynb) [![slides](https://img.shields.io/static/v1?label=slides&message=lesson01_intro-to-ds-and-ml.pdf&color=blue&logo=Google-drive)](https://drive.google.com/file/d/14bPRdbbf_CjDOfG8rBbSBQO-dDpxDj2G/view) |\n",
    "| 9 | 27.02 | Exploratory data analysis | [![Binder](https://mybinder.org/badge_logo.svg)](https://mybinder.org/v2/gh/lewtun/dslectures/master?urlpath=lab/tree/notebooks%2Flesson02_exploratory-data-analysis.ipynb) [![notebook](https://img.shields.io/static/v1?label=notebook&message=lesson02_exploratory-data-analysis.ipynb&color=red&logo=Jupyter)](https://raw.githubusercontent.com/lewtun/dslectures/master/notebooks/lesson02_exploratory-data-analysis.ipynb) [![slides](https://img.shields.io/static/v1?label=slides&message=lesson02_exploratory-data-analysis.pdf&color=blue&logo=Google-drive)](https://drive.google.com/open?id=1o7zrt0wB5XeJp1r16hv2dUVQVQEVAygl)  |\n",
    "| 10 | 5.03 | Data cleaning and feature engineering | [![Binder](https://mybinder.org/badge_logo.svg)](https://mybinder.org/v2/gh/lewtun/dslectures/master?urlpath=lab/tree/notebooks%2Flesson03_data-cleaning.ipynb) [![notebook](https://img.shields.io/static/v1?label=notebook&message=lesson03_data-cleaning.ipynb&color=red&logo=Jupyter)](https://raw.githubusercontent.com/lewtun/dslectures/master/notebooks/lesson03_data-cleaning.ipynb) [![slides](https://img.shields.io/static/v1?label=slides&message=lesson03_data-cleaning.pdf&color=blue&logo=Google-drive)](https://drive.google.com/open?id=1qif0v7ZclsCsjT1efrCAjjUTqZ_KyTIl) |\n",
    "| 11 | 12.03 | Introduction to random forests | [![Binder](https://mybinder.org/badge_logo.svg)](https://mybinder.org/v2/gh/lewtun/dslectures/master?urlpath=lab/tree/notebooks%2Flesson04_intro-to-random-forests.ipynb)  [![notebook](https://img.shields.io/static/v1?label=notebook&message=lesson04_intro-to-random-forests.ipynb&color=red&logo=Jupyter)](https://raw.githubusercontent.com/lewtun/dslectures/master/notebooks/lesson04_intro-to-random-forests.ipynb) [![slides](https://img.shields.io/static/v1?label=slides&message=lesson04_intro-to-random-forests.pdf&color=blue&logo=Google-drive)](https://drive.google.com/open?id=18yESZldXJrdXiaOQWmiA35-8vIqOnNK8) |\n",
    "| 12 | 19.03 | Random forest deep dive | [![Binder](https://mybinder.org/badge_logo.svg)](https://mybinder.org/v2/gh/lewtun/dslectures/master?urlpath=lab/tree/notebooks%2Flesson05_random-forest-deep-dive.ipynb) [![notebook](https://img.shields.io/static/v1?label=notebook&message=lesson05_random-forest-deep-dive.ipynb&color=red&logo=Jupyter)](https://raw.githubusercontent.com/lewtun/dslectures/master/notebooks/lesson05_random-forest-deep-dive.ipynb) [![slides](https://img.shields.io/static/v1?label=slides&message=lesson05_random-forest-deep-dive.pdf&color=blue&logo=Google-drive)](https://drive.google.com/open?id=1xRpRXFY_wMzHn2QgW3nDzULh8Y7G5IVt) |\n",
    "| 13 | 26.03 | Model interpretation | [![Binder](https://mybinder.org/badge_logo.svg)](https://mybinder.org/v2/gh/lewtun/dslectures/master?urlpath=lab/tree/notebooks%2Flesson06_model-interpretation.ipynb) [![notebook](https://img.shields.io/static/v1?label=notebook&message=lesson06_model-interpretation.ipynb&color=red&logo=Jupyter)](https://raw.githubusercontent.com/lewtun/dslectures/master/notebooks/lesson06_model-interpretation.ipynb) [![slides](https://img.shields.io/static/v1?label=slides&message=lesson06_model-interpretation.pdf&color=blue&logo=Google-drive)](https://drive.google.com/open?id=15IIYC_MksmXI6VfSL3ee-rLm7TRF0v2U) |\n",
    "| 14 | 2.04 | Classification | |\n",
    "| 15 | 9.04 | **No class (Easter)** | |\n",
    "| 16 | 16.04 | **Midterm exam & define group projects** | |\n",
    "| 17 | 23.04 | Cross-validation and model performance | |\n",
    "| 18 | 30.04 | Neighbours and clusters I | |\n",
    "| 19 | 7.05 | Neighbours and clusters II | |\n",
    "| 20 | 14.05 | Natural language processing I | |\n",
    "| 21 | 21.05 | **No class (Ascension)** | |\n",
    "| 22 | 28.05 | Natural language processing II **& group project submission** | |\n",
    "| 23 | 4.06 | **Project presentations** | |\n",
    "| 24 | 11.06 | Deep learning | |\n",
    "| 25 | 18.06 | Exam preparation| |\n",
    "| 26 | 25.06 | Exam preparation | |\n",
    "| 27 | TBC | **Final exam** | |"
   ]
  },
  {
   "cell_type": "markdown",
   "metadata": {},
   "source": [
    "**Note:** To download the notebooks, right-click on the badge ![notebook](https://img.shields.io/static/v1?label=notebook&message=example-notebook.ipynb&color=red&logo=Jupyter) and select \"Save Link as ...\" and make sure to save them with the `.ipynb` ending."
   ]
  },
  {
   "cell_type": "markdown",
   "metadata": {},
   "source": [
    "## Cloud environment\n",
    "We will be teaching most of the class via Jupyter notebooks in Python. The notebooks for each class will be made available from links on this website. Note that some parts of the notebooks are removed for you to fill in as you follow along in class. You can open and run them directly on Binder by clicking on the Binder badge (see example below) at the top of each lecture notebook. We highly encourage the use of Binder, since it requires no local installation and runs for free. \n",
    "\n",
    "Binder badge:  ![Binder](https://mybinder.org/badge_logo.svg) \n",
    "\n",
    "A few remarks about Binder:\n",
    "\n",
    "1. Binder is free to use.\n",
    "2. If you edit a notebook make sure you _**download it**_, since Binder _**does not save your changes.**_\n",
    "3. Binder will automatically shut down user sessions that have more than 10 minutes of inactivity (if you leave your browser window open, this will be counted as “activity”).\n",
    "4. Binder aims to provide at least 12 hours of session time per user session. Beyond that, it is not guaranteed that the session will remain running.\n",
    "\n",
    "\n",
    "### Downloading and uploading files\n",
    "Since Binder does not save your changes permanently, you should download the notebooks you worked on at the end of your session. If you want to continue your session later on you can re-upload them to Binder. See the image below for instructions how to upload and download files.\n",
    "\n",
    "<div style=\"text-align: center\">\n",
    "<img src='images/binder-download-upload.png' width='800'>\n",
    "<p style=\"text-align: center;\"> <b>Figure:</b> Download and upload buttons on JupyterLab as seen in the binder environment. </p>\n",
    "</div>"
   ]
  },
  {
   "cell_type": "markdown",
   "metadata": {},
   "source": [
    "## Local environment\n",
    "You can also install the data science lecture material locally on your laptop. In general, when working with Python it is recommended to use [virtual environments](https://docs.python.org/3/tutorial/venv.html). This makes sure that the packages you install don't interfere with the packages you already installed in other projects.\n",
    "\n",
    "To install the data science lectures library run the following command:\n",
    "\n",
    "```bash\n",
    "pip install dslectures\n",
    "```\n",
    "\n",
    "To install JupyterLab (a more advanced environment than Jupyter notebooks) run:\n",
    "\n",
    "```bash\n",
    "pip install jupyterlab\n",
    "```\n",
    "Then make sure you download all course material from the [GitHub repository](https://github.com/lewtun/dslectures) or just the missing notebooks. In general you will need to copy all materials, since some resources such as images are not self-contained in the notebooks.\n",
    "\n",
    "Finally, to start JuypterLab run:\n",
    "```bash\n",
    "jupyter-lab\n",
    "```\n",
    "\n",
    "### Updating the local environment\n",
    "Since we are developing the materials throughout the course you will need to update your local environment every time we move on to the next lesson. To do so just run the following command before you start JupyterLab\n",
    "\n",
    "```bash\n",
    "pip install --upgrade dslectures\n",
    "```"
   ]
  },
  {
   "cell_type": "markdown",
   "metadata": {},
   "source": [
    "## Recommended references\n",
    "\n",
    "**Data Science**\n",
    "* F. Provost and T. Fawcett, _Data Science for Business,_ (O’Reilly Media 2013). \n",
    "* J. VanderPlas, [_Python for Data Science Handbook,_](https://jakevdp.github.io/PythonDataScienceHandbook/) (O’Reilly Media 2016).\n",
    "\n",
    "Provost & Fawcett will be used as the **_primary_** textbook for the module and is the standard data science text for business programs at over 150 universities around the world. The book by VanderPlas is an excellent reference for the Python programming aspects of the module.\n",
    "\n",
    "**Python Programming**\n",
    "* W. McKinney, _Python for Data Analysis,_ 2nd ed (O’Reilly Media 2017).\n",
    "\n",
    "We will use the Python programming language to analyse and visualise a variety of datasets in this module. McKinney’s book is an excellent reference to have at hand and covers the nuts and bolts of the NumPy and pandas packages.\n",
    "\n",
    "**Machine Learning**\n",
    "* A. Géron, _Hands-On Machine Learning with Scikit-Learn and TensorFlow,_ (O’Reilly Media 2017).\n",
    "* J. Howard, _Introduction to Machine Learning for Coders,_ (fastAI 2018).\n",
    "\n",
    "Although machine learning is not the only focus of this course, Géron’s book or fastAI’s MOOC provide the right level of technical detail to gain a deeper understanding of this exciting field.\n",
    "\n",
    "**Kaggle Learn**\n",
    "* [Kaggle Learn](https://www.kaggle.com/learn/overview)\n",
    "\n",
    "Kaggle Learn is a great resource to brush up on concepts like Python basics, data visualisation or pandas in an online notebook environment (similar to Binder)."
   ]
  },
  {
   "cell_type": "markdown",
   "metadata": {},
   "source": [
    "##  Sources used for this syllabus\n",
    "* M. Loukides, _What is Data Science?,_ (O’Reilly 2010). Retrieved from https://www.oreilly.com/ideas/what-is-data-science\n",
    "* D. Conway, _The Data Science Venn Diagram,_ (2010). Retrieved from http://drewconway.com/zia/2013/3/26/the-data-science-venn-diagram"
   ]
  },
  {
   "cell_type": "code",
   "execution_count": null,
   "metadata": {},
   "outputs": [],
   "source": []
  }
 ],
 "metadata": {
  "kernelspec": {
   "display_name": "Python 3",
   "language": "python",
   "name": "python3"
  }
 },
 "nbformat": 4,
 "nbformat_minor": 4
}
