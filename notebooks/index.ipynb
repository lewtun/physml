{
 "cells": [
  {
   "cell_type": "markdown",
   "metadata": {},
   "source": [
    "# Practical Machine Learning for Physicists\n",
    "\n",
    "> Welcome to the graduate course on machine learning at the Albert Einstein Center for Fundamental Physics of the University of Bern!"
   ]
  },
  {
   "cell_type": "markdown",
   "metadata": {},
   "source": [
    "## What is this thing called machine learning?\n",
    "\n",
    "<div style=\"text-align: center\">\n",
    "<img src='images/machine_learning.png'>\n",
    "   <p style=\"text-align: center;\"> <b>Figure reference:</b> https://xkcd.com/1838/ </p>\n",
    "</div>\n",
    "\n",
    "Machine learning is a subfield of artificial intelligence that focuses on using algorithms to parse data, learn from it, and then make predictions about something in the world. In the last decade, this framework has led to significant advances in [computer vision](https://www.youtube.com/watch?v=kSLJriaOumA&feature=youtu.be), [natural language processing](https://openai.com/blog/better-language-models/), and [reinforcement learning](https://openai.com/blog/emergent-tool-use/). More recently, machine learning has begun to attract interest in the physical sciences and is rapidly becoming an important part of the physicist's toolkit, especially in data-rich fields like high-energy particle physics and cosmology."
   ]
  },
  {
   "cell_type": "markdown",
   "metadata": {},
   "source": [
    "## Basics"
   ]
  },
  {
   "cell_type": "markdown",
   "metadata": {},
   "source": [
    "**Timetable:** 14:15 to 16:00 on Tuesdays via Zoom due to the COVID-19 pandemic.\n",
    "\n",
    "**Class Slack group:** [ml-for-physics.slack.com](https://ml-for-physics.slack.com)\n",
    "\n",
    "If you need to contact me, I strongly encourage you to do so via Slack since I'll check this a few times per day."
   ]
  },
  {
   "cell_type": "markdown",
   "metadata": {},
   "source": [
    "## Learning objectives of the course\n",
    "This course provides students with a _hands-on_ introduction to the methods of machine learning, with an emphasis on applying these methods to solve physics problems. By the end of this course, it is expected that students will:\n",
    "\n",
    "* Know how to approach physics problems from a machine learning perspective;\n",
    "* Understand the fundamental principles behind extracting useful knowledge from data; \n",
    "* Understand the core concepts and terminology of machine learning;\n",
    "* Gain hands-on experience with mining data for insights.\n",
    "\n",
    "Throughout the course, students will also have the opportunity to learn several technical skills:\n",
    "\n",
    "* Python programming and experience with the core libaries for data analysis, visualisation, and modelling.\n",
    "* Working with data: collecting, cleaning, and transforming.\n",
    "* Creating and interpreting descriptive statistics.\n",
    "* Creating and interpreting data visualisations.\n",
    "* Practical experience with machine learning."
   ]
  },
  {
   "cell_type": "markdown",
   "metadata": {},
   "source": [
    "## Structure of the course\n",
    "Due to constraints placed by the COVID-19 pandemic, the course will be delivered entirely via online lectures. Each lecture will involve a mix of theoretical and programming work, with an emphasis on the latter. A tentative outline for the course is shown in the table below. \n",
    "\n",
    "| CW | Date | Topic | Links |\n",
    "| :--- | :--- | :--- | :--- |\n",
    "| 15 | 7.4 | Introduction to random forests |  |\n",
    "| 17 | 21.4 | Random forest deep dive |  |\n",
    "| 18 | 28.4 | Model interpretation |  |\n",
    "| 19 | 5.5 | Random forests from scratch | |\n",
    "| 20 | 12.5 | Gradient boosting | |\n",
    "| 21 | 19.5 | Topological machine learning I | |\n",
    "| 22 | 26.5 | Topological machine learning II | |"
   ]
  },
  {
   "cell_type": "markdown",
   "metadata": {},
   "source": [
    "## Cloud environment\n",
    "We will be teaching most of the class via Jupyter notebooks in Python. You can open and run them directly on Binder by clicking on the Binder badge (see example below) at the top of each lecture notebook. We highly encourage the use of Binder, since it requires no local installation and runs for free. \n",
    "\n",
    "Binder badge:  ![Binder](https://mybinder.org/badge_logo.svg) \n",
    "\n",
    "A few remarks about Binder:\n",
    "\n",
    "1. Binder is free to use.\n",
    "2. If you edit a notebook make sure you _**download it**_, since Binder _**does not save your changes.**_\n",
    "3. Binder will automatically shut down user sessions that have more than 10 minutes of inactivity (if you leave your browser window open, this will be counted as “activity”).\n",
    "4. Binder aims to provide at least 12 hours of session time per user session. Beyond that, it is not guaranteed that the session will remain running.\n",
    "\n",
    "\n",
    "### Downloading and uploading files\n",
    "Since Binder does not save your changes permanently, you should download the notebooks you worked on at the end of your session. If you want to continue your session later on you can re-upload them to Binder. See the image below for instructions how to upload and download files.\n",
    "\n",
    "<div style=\"text-align: center\">\n",
    "<img src='images/binder-download-upload.png' width='800'>\n",
    "<p style=\"text-align: center;\"> <b>Figure:</b> Download and upload buttons on JupyterLab as seen in the binder environment. </p>\n",
    "</div>"
   ]
  },
  {
   "cell_type": "markdown",
   "metadata": {},
   "source": [
    "## Local environment\n",
    "You can also run the course material locally on your laptop. In general, when working with Python it is recommended to use [virtual environments](https://realpython.com/python-virtual-environments-a-primer/). This makes sure that the packages you install don't interfere with the packages you already installed in other projects.\n",
    "\n",
    "To install the library associated with the course run the following command:\n",
    "\n",
    "```bash\n",
    "pip install hepml\n",
    "```\n",
    "\n",
    "To install JupyterLab (a more advanced environment than Jupyter notebooks) run:\n",
    "\n",
    "```bash\n",
    "pip install jupyterlab\n",
    "```\n",
    "Then make sure you download all course material from the [GitHub repository](https://github.com/lewtun/hepml) or just the missing notebooks. In general you will need to copy all materials, since some resources such as images are not self-contained in the notebooks.\n",
    "\n",
    "Finally, to start JuypterLab run:\n",
    "```bash\n",
    "jupyter-lab\n",
    "```\n",
    "\n",
    "### Updating the local environment\n",
    "Since we are developing the materials throughout the course you will need to update your local environment every time we move on to the next lesson. To do so just run the following command before you start JupyterLab\n",
    "\n",
    "```bash\n",
    "pip install --upgrade hepml\n",
    "```"
   ]
  },
  {
   "cell_type": "markdown",
   "metadata": {},
   "source": [
    "## Recommended references\n",
    "\n",
    "**Machine Learning**\n",
    "* J. Howard, [_Introduction to Machine Learning for Coders,_](https://course18.fast.ai/ml)\n",
    "* P. Mehta et al., [_A high-bias, low-variance introduction to Machine Learning for physicists_](https://arxiv.org/abs/1803.08823)\n",
    "* A. Géron, [_Hands-On Machine Learning with Scikit-Learn and TensorFlow,_](https://www.oreilly.com/library/view/hands-on-machine-learning/9781491962282/)\n",
    "* J. Murugan and D. Robertson, [_An Introduction to Topological Data Analysis for Physicists: From LGM to FRBs_](https://arxiv.org/abs/1904.11044)\n",
    "\n",
    "The structure of the lectures is adapted (with permission) from Jeremy Howard's excellent machine learning course for coders, while the theoretical content is based on the comprehensive review articles by Mehta et al and Murugan and Roberston.\n",
    "\n",
    "**Python Programming**\n",
    "* W. McKinney, [_Python for Data Analysis,_](http://shop.oreilly.com/product/0636920023784.do)\n",
    "\n",
    "We will use the Python programming language to analyse and visualise a variety of datasets in this course. McKinney’s book is an excellent reference to have at hand and covers the nuts and bolts of the NumPy and pandas packages.\n",
    "\n",
    "**Kaggle Learn**\n",
    "* [Kaggle Learn](https://www.kaggle.com/learn/overview)\n",
    "\n",
    "Kaggle Learn is a great resource to brush up on concepts like Python basics, data visualisation or pandas in an online notebook environment (similar to Binder)."
   ]
  },
  {
   "cell_type": "code",
   "execution_count": null,
   "metadata": {},
   "outputs": [],
   "source": []
  }
 ],
 "metadata": {
  "kernelspec": {
   "display_name": "Python 3",
   "language": "python",
   "name": "python3"
  }
 },
 "nbformat": 4,
 "nbformat_minor": 4
}
