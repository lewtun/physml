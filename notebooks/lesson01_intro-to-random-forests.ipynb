{
 "cells": [
  {
   "cell_type": "markdown",
   "metadata": {},
   "source": [
    "# Lesson 1 - Introduction to random forests\n",
    "\n",
    "> A first look at training Random Forest models to identify τ → μμμ decays"
   ]
  },
  {
   "cell_type": "markdown",
   "metadata": {},
   "source": [
    "[![Binder](https://mybinder.org/badge_logo.svg)](https://mybinder.org/v2/gh/lewtun/hepml/master?urlpath=lab/tree/notebooks%2Flesson01_intro-to-random-forests.ipynb)"
   ]
  },
  {
   "cell_type": "markdown",
   "metadata": {},
   "source": [
    "## Learning objectives"
   ]
  },
  {
   "cell_type": "markdown",
   "metadata": {},
   "source": [
    "* Gain an introduction to the pandas library\n",
    "* Understand the main steps involved in training a machine learning model\n",
    "* Gain an introduction to scikit-learn's API\n",
    "* Understand the need to generate a training and validation set"
   ]
  },
  {
   "cell_type": "markdown",
   "metadata": {},
   "source": [
    "## References"
   ]
  },
  {
   "cell_type": "markdown",
   "metadata": {},
   "source": [
    "* Chapters 2 & 3 of _Hands-On Machine Learning with Scikit-Learn and TensorFlow_ by Aurèlien Geron"
   ]
  },
  {
   "cell_type": "markdown",
   "metadata": {},
   "source": [
    "## The data\n",
    "\n",
    "We will be analysing data from the Kaggle competition [Flavours of Physics: Finding τ → μμμ](https://www.kaggle.com/c/flavours-of-physics/overview). As described on the Kaggle webpage:\n",
    "\n",
    "> In this competition, you are given a list of collision events and their properties. You will then predict whether a τ → 3μ decay happened in this collision. This τ → 3μ is currently assumed by scientists not to happen, and the goal of this competition is to discover τ → 3μ happening more frequently than scientists currently can understand.\n",
    "\n",
    "Framed as a supervised learning task, our goal is thus to train a model that is capable of distinguishing signal from background events, given physical input values."
   ]
  },
  {
   "cell_type": "markdown",
   "metadata": {},
   "source": [
    "There are 4 datasets associated with this challenge, namely:\n",
    "\n",
    "* **train.csv:** This is a labelled dataset (the label `signal` being `1` for signal events, `0` for background events) to train the classifier. Signal events have been simulated, while background events are real data.\n",
    "* **test.csv:** The test dataset has all the columns that training.csv has, except `mass`, `production`, `min_ANNmuon`, and `signal`. \n",
    "* **check_agreement.csv:** This dataset contains simulated and real events from the Control channel Ds → φπ to evaluate your simulated-real data of submission agreement locally.\n",
    "* **check_correlation.csv:** This dataset contains only real background events recorded at LHCb to evaluate your submission correlation with mass locally."
   ]
  },
  {
   "cell_type": "markdown",
   "metadata": {},
   "source": [
    "## Import libraries"
   ]
  },
  {
   "cell_type": "code",
   "execution_count": null,
   "metadata": {},
   "outputs": [],
   "source": [
    "# reload modules before executing user code\n",
    "%load_ext autoreload\n",
    "# reload all modules every time before executing Python code\n",
    "%autoreload 2\n",
    "# render plots in notebook\n",
    "%matplotlib inline"
   ]
  },
  {
   "cell_type": "code",
   "execution_count": null,
   "metadata": {},
   "outputs": [],
   "source": [
    "# data wrangling\n",
    "import pandas as pd\n",
    "import numpy as np\n",
    "from pathlib import Path\n",
    "from hepml.core import display_large, download_dataset\n",
    "\n",
    "# data viz\n",
    "import matplotlib.pyplot as plt\n",
    "import seaborn as sns\n",
    "from sklearn.metrics import plot_roc_curve\n",
    "\n",
    "sns.set(color_codes=True)\n",
    "sns.set_palette(sns.color_palette(\"muted\"))\n",
    "\n",
    "# ml magic\n",
    "from sklearn.model_selection import train_test_split\n",
    "from sklearn.metrics import accuracy_score, roc_auc_score\n",
    "from sklearn.ensemble import RandomForestClassifier\n",
    "from hepml.evaluation import roc_auc_truncated, compute_ks, compute_cvm"
   ]
  },
  {
   "cell_type": "markdown",
   "metadata": {},
   "source": [
    "## Load the data"
   ]
  },
  {
   "cell_type": "markdown",
   "metadata": {},
   "source": [
    "First we need to fetch the datasets from Google Drive - we can do that by running the following function:"
   ]
  },
  {
   "cell_type": "code",
   "execution_count": null,
   "metadata": {},
   "outputs": [
    {
     "name": "stdout",
     "output_type": "stream",
     "text": [
      "Dataset already exists at '../data/tau_decays_train.csv' and is not downloaded again.\n",
      "Dataset already exists at '../data/tau_decays_test.csv' and is not downloaded again.\n"
     ]
    }
   ],
   "source": [
    "download_dataset(\"tau_decays_train.csv\")\n",
    "download_dataset(\"tau_decays_test.csv\")"
   ]
  },
  {
   "cell_type": "markdown",
   "metadata": {},
   "source": [
    "To load our dataset we need to tell pandas where to look for it. First, lets have a look at what we have in the `data/` directory:"
   ]
  },
  {
   "cell_type": "code",
   "execution_count": null,
   "metadata": {},
   "outputs": [
    {
     "name": "stdout",
     "output_type": "stream",
     "text": [
      "hb_submission.csv                tau_decays_check_correlation.csv\n",
      "rf_submission.csv                tau_decays_test.csv\n",
      "tau_decays_check_agreement.csv   tau_decays_train.csv\n"
     ]
    }
   ],
   "source": [
    "DATA = Path(\"../data\")\n",
    "!ls {DATA}"
   ]
  },
  {
   "cell_type": "markdown",
   "metadata": {},
   "source": [
    "With pathlib it is a simple matter to define the filepath to the train and test datasets, and since the files are in CSV format we can load it as a `pandas.DataFrame` as follows:"
   ]
  },
  {
   "cell_type": "code",
   "execution_count": null,
   "metadata": {},
   "outputs": [],
   "source": [
    "train = pd.read_csv(DATA / \"tau_decays_train.csv\")\n",
    "test = pd.read_csv(DATA / \"tau_decays_test.csv\")"
   ]
  },
  {
   "cell_type": "markdown",
   "metadata": {},
   "source": [
    "## Inspect the data"
   ]
  },
  {
   "cell_type": "markdown",
   "metadata": {},
   "source": [
    "### Preview the data"
   ]
  },
  {
   "cell_type": "markdown",
   "metadata": {},
   "source": [
    "This first thing you should do after creating a `pandas.DataFrame` is to inspect the first/last few rows to make sure there's no surprises in the data format that need to be dealt with. For example, one often finds metadata or aggregations at the end of CSV/Excel files, and this can cause problems if not handled correctly."
   ]
  },
  {
   "cell_type": "markdown",
   "metadata": {},
   "source": [
    "The `DataFrame.head` method displays the _first_ five rows of a `pandas.DataFrame`:"
   ]
  },
  {
   "cell_type": "code",
   "execution_count": null,
   "metadata": {},
   "outputs": [
    {
     "data": {
      "text/html": [
       "<div>\n",
       "<style scoped>\n",
       "    .dataframe tbody tr th:only-of-type {\n",
       "        vertical-align: middle;\n",
       "    }\n",
       "\n",
       "    .dataframe tbody tr th {\n",
       "        vertical-align: top;\n",
       "    }\n",
       "\n",
       "    .dataframe thead th {\n",
       "        text-align: right;\n",
       "    }\n",
       "</style>\n",
       "<table border=\"1\" class=\"dataframe\">\n",
       "  <thead>\n",
       "    <tr style=\"text-align: right;\">\n",
       "      <th></th>\n",
       "      <th>id</th>\n",
       "      <th>LifeTime</th>\n",
       "      <th>dira</th>\n",
       "      <th>FlightDistance</th>\n",
       "      <th>FlightDistanceError</th>\n",
       "      <th>IP</th>\n",
       "      <th>IPSig</th>\n",
       "      <th>VertexChi2</th>\n",
       "      <th>pt</th>\n",
       "      <th>DOCAone</th>\n",
       "      <th>...</th>\n",
       "      <th>p1_p</th>\n",
       "      <th>p2_p</th>\n",
       "      <th>p0_eta</th>\n",
       "      <th>p1_eta</th>\n",
       "      <th>p2_eta</th>\n",
       "      <th>SPDhits</th>\n",
       "      <th>production</th>\n",
       "      <th>signal</th>\n",
       "      <th>mass</th>\n",
       "      <th>min_ANNmuon</th>\n",
       "    </tr>\n",
       "  </thead>\n",
       "  <tbody>\n",
       "    <tr>\n",
       "      <th>0</th>\n",
       "      <td>18453471</td>\n",
       "      <td>0.001578</td>\n",
       "      <td>0.999999</td>\n",
       "      <td>14.033335</td>\n",
       "      <td>0.681401</td>\n",
       "      <td>0.016039</td>\n",
       "      <td>0.451886</td>\n",
       "      <td>1.900433</td>\n",
       "      <td>1482.037476</td>\n",
       "      <td>0.066667</td>\n",
       "      <td>...</td>\n",
       "      <td>12290.760742</td>\n",
       "      <td>39264.398438</td>\n",
       "      <td>3.076006</td>\n",
       "      <td>4.003800</td>\n",
       "      <td>4.031514</td>\n",
       "      <td>458</td>\n",
       "      <td>-99</td>\n",
       "      <td>0</td>\n",
       "      <td>1866.300049</td>\n",
       "      <td>0.277559</td>\n",
       "    </tr>\n",
       "    <tr>\n",
       "      <th>1</th>\n",
       "      <td>5364094</td>\n",
       "      <td>0.000988</td>\n",
       "      <td>0.999705</td>\n",
       "      <td>5.536157</td>\n",
       "      <td>0.302341</td>\n",
       "      <td>0.142163</td>\n",
       "      <td>9.564503</td>\n",
       "      <td>0.865666</td>\n",
       "      <td>3050.720703</td>\n",
       "      <td>0.024022</td>\n",
       "      <td>...</td>\n",
       "      <td>16562.667969</td>\n",
       "      <td>7341.257812</td>\n",
       "      <td>3.228553</td>\n",
       "      <td>2.786543</td>\n",
       "      <td>2.975564</td>\n",
       "      <td>406</td>\n",
       "      <td>-99</td>\n",
       "      <td>0</td>\n",
       "      <td>1727.095947</td>\n",
       "      <td>0.225924</td>\n",
       "    </tr>\n",
       "    <tr>\n",
       "      <th>2</th>\n",
       "      <td>11130990</td>\n",
       "      <td>0.000877</td>\n",
       "      <td>0.999984</td>\n",
       "      <td>6.117302</td>\n",
       "      <td>0.276463</td>\n",
       "      <td>0.034746</td>\n",
       "      <td>1.970751</td>\n",
       "      <td>10.975849</td>\n",
       "      <td>3895.908691</td>\n",
       "      <td>0.055044</td>\n",
       "      <td>...</td>\n",
       "      <td>22695.388672</td>\n",
       "      <td>10225.309570</td>\n",
       "      <td>3.536903</td>\n",
       "      <td>2.865686</td>\n",
       "      <td>3.052810</td>\n",
       "      <td>196</td>\n",
       "      <td>-99</td>\n",
       "      <td>0</td>\n",
       "      <td>1898.588013</td>\n",
       "      <td>0.368630</td>\n",
       "    </tr>\n",
       "    <tr>\n",
       "      <th>3</th>\n",
       "      <td>15173787</td>\n",
       "      <td>0.000854</td>\n",
       "      <td>0.999903</td>\n",
       "      <td>5.228067</td>\n",
       "      <td>0.220739</td>\n",
       "      <td>0.076389</td>\n",
       "      <td>4.271331</td>\n",
       "      <td>3.276358</td>\n",
       "      <td>4010.781738</td>\n",
       "      <td>0.053779</td>\n",
       "      <td>...</td>\n",
       "      <td>16909.515625</td>\n",
       "      <td>9141.426758</td>\n",
       "      <td>3.087461</td>\n",
       "      <td>3.218034</td>\n",
       "      <td>2.375592</td>\n",
       "      <td>137</td>\n",
       "      <td>-99</td>\n",
       "      <td>0</td>\n",
       "      <td>1840.410034</td>\n",
       "      <td>0.246045</td>\n",
       "    </tr>\n",
       "    <tr>\n",
       "      <th>4</th>\n",
       "      <td>1102544</td>\n",
       "      <td>0.001129</td>\n",
       "      <td>0.999995</td>\n",
       "      <td>39.069534</td>\n",
       "      <td>1.898197</td>\n",
       "      <td>0.120936</td>\n",
       "      <td>4.984982</td>\n",
       "      <td>0.468348</td>\n",
       "      <td>4144.546875</td>\n",
       "      <td>0.004491</td>\n",
       "      <td>...</td>\n",
       "      <td>97612.804688</td>\n",
       "      <td>47118.785156</td>\n",
       "      <td>4.632295</td>\n",
       "      <td>4.711155</td>\n",
       "      <td>4.296878</td>\n",
       "      <td>477</td>\n",
       "      <td>-99</td>\n",
       "      <td>0</td>\n",
       "      <td>1899.793945</td>\n",
       "      <td>0.222060</td>\n",
       "    </tr>\n",
       "  </tbody>\n",
       "</table>\n",
       "<p>5 rows × 51 columns</p>\n",
       "</div>"
      ],
      "text/plain": [
       "         id  LifeTime      dira  FlightDistance  FlightDistanceError  \\\n",
       "0  18453471  0.001578  0.999999       14.033335             0.681401   \n",
       "1   5364094  0.000988  0.999705        5.536157             0.302341   \n",
       "2  11130990  0.000877  0.999984        6.117302             0.276463   \n",
       "3  15173787  0.000854  0.999903        5.228067             0.220739   \n",
       "4   1102544  0.001129  0.999995       39.069534             1.898197   \n",
       "\n",
       "         IP     IPSig  VertexChi2           pt   DOCAone  ...          p1_p  \\\n",
       "0  0.016039  0.451886    1.900433  1482.037476  0.066667  ...  12290.760742   \n",
       "1  0.142163  9.564503    0.865666  3050.720703  0.024022  ...  16562.667969   \n",
       "2  0.034746  1.970751   10.975849  3895.908691  0.055044  ...  22695.388672   \n",
       "3  0.076389  4.271331    3.276358  4010.781738  0.053779  ...  16909.515625   \n",
       "4  0.120936  4.984982    0.468348  4144.546875  0.004491  ...  97612.804688   \n",
       "\n",
       "           p2_p    p0_eta    p1_eta    p2_eta  SPDhits  production  signal  \\\n",
       "0  39264.398438  3.076006  4.003800  4.031514      458         -99       0   \n",
       "1   7341.257812  3.228553  2.786543  2.975564      406         -99       0   \n",
       "2  10225.309570  3.536903  2.865686  3.052810      196         -99       0   \n",
       "3   9141.426758  3.087461  3.218034  2.375592      137         -99       0   \n",
       "4  47118.785156  4.632295  4.711155  4.296878      477         -99       0   \n",
       "\n",
       "          mass  min_ANNmuon  \n",
       "0  1866.300049     0.277559  \n",
       "1  1727.095947     0.225924  \n",
       "2  1898.588013     0.368630  \n",
       "3  1840.410034     0.246045  \n",
       "4  1899.793945     0.222060  \n",
       "\n",
       "[5 rows x 51 columns]"
      ]
     },
     "execution_count": null,
     "metadata": {},
     "output_type": "execute_result"
    }
   ],
   "source": [
    "train.head()"
   ]
  },
  {
   "cell_type": "markdown",
   "metadata": {},
   "source": [
    "If we want to see more rows, we just pass an integer argument to the method as follows:"
   ]
  },
  {
   "cell_type": "code",
   "execution_count": null,
   "metadata": {},
   "outputs": [
    {
     "data": {
      "text/html": [
       "<div>\n",
       "<style scoped>\n",
       "    .dataframe tbody tr th:only-of-type {\n",
       "        vertical-align: middle;\n",
       "    }\n",
       "\n",
       "    .dataframe tbody tr th {\n",
       "        vertical-align: top;\n",
       "    }\n",
       "\n",
       "    .dataframe thead th {\n",
       "        text-align: right;\n",
       "    }\n",
       "</style>\n",
       "<table border=\"1\" class=\"dataframe\">\n",
       "  <thead>\n",
       "    <tr style=\"text-align: right;\">\n",
       "      <th></th>\n",
       "      <th>id</th>\n",
       "      <th>LifeTime</th>\n",
       "      <th>dira</th>\n",
       "      <th>FlightDistance</th>\n",
       "      <th>FlightDistanceError</th>\n",
       "      <th>IP</th>\n",
       "      <th>IPSig</th>\n",
       "      <th>VertexChi2</th>\n",
       "      <th>pt</th>\n",
       "      <th>DOCAone</th>\n",
       "      <th>...</th>\n",
       "      <th>p1_p</th>\n",
       "      <th>p2_p</th>\n",
       "      <th>p0_eta</th>\n",
       "      <th>p1_eta</th>\n",
       "      <th>p2_eta</th>\n",
       "      <th>SPDhits</th>\n",
       "      <th>production</th>\n",
       "      <th>signal</th>\n",
       "      <th>mass</th>\n",
       "      <th>min_ANNmuon</th>\n",
       "    </tr>\n",
       "  </thead>\n",
       "  <tbody>\n",
       "    <tr>\n",
       "      <th>0</th>\n",
       "      <td>18453471</td>\n",
       "      <td>0.001578</td>\n",
       "      <td>0.999999</td>\n",
       "      <td>14.033335</td>\n",
       "      <td>0.681401</td>\n",
       "      <td>0.016039</td>\n",
       "      <td>0.451886</td>\n",
       "      <td>1.900433</td>\n",
       "      <td>1482.037476</td>\n",
       "      <td>0.066667</td>\n",
       "      <td>...</td>\n",
       "      <td>12290.760742</td>\n",
       "      <td>39264.398438</td>\n",
       "      <td>3.076006</td>\n",
       "      <td>4.003800</td>\n",
       "      <td>4.031514</td>\n",
       "      <td>458</td>\n",
       "      <td>-99</td>\n",
       "      <td>0</td>\n",
       "      <td>1866.300049</td>\n",
       "      <td>0.277559</td>\n",
       "    </tr>\n",
       "    <tr>\n",
       "      <th>1</th>\n",
       "      <td>5364094</td>\n",
       "      <td>0.000988</td>\n",
       "      <td>0.999705</td>\n",
       "      <td>5.536157</td>\n",
       "      <td>0.302341</td>\n",
       "      <td>0.142163</td>\n",
       "      <td>9.564503</td>\n",
       "      <td>0.865666</td>\n",
       "      <td>3050.720703</td>\n",
       "      <td>0.024022</td>\n",
       "      <td>...</td>\n",
       "      <td>16562.667969</td>\n",
       "      <td>7341.257812</td>\n",
       "      <td>3.228553</td>\n",
       "      <td>2.786543</td>\n",
       "      <td>2.975564</td>\n",
       "      <td>406</td>\n",
       "      <td>-99</td>\n",
       "      <td>0</td>\n",
       "      <td>1727.095947</td>\n",
       "      <td>0.225924</td>\n",
       "    </tr>\n",
       "    <tr>\n",
       "      <th>2</th>\n",
       "      <td>11130990</td>\n",
       "      <td>0.000877</td>\n",
       "      <td>0.999984</td>\n",
       "      <td>6.117302</td>\n",
       "      <td>0.276463</td>\n",
       "      <td>0.034746</td>\n",
       "      <td>1.970751</td>\n",
       "      <td>10.975849</td>\n",
       "      <td>3895.908691</td>\n",
       "      <td>0.055044</td>\n",
       "      <td>...</td>\n",
       "      <td>22695.388672</td>\n",
       "      <td>10225.309570</td>\n",
       "      <td>3.536903</td>\n",
       "      <td>2.865686</td>\n",
       "      <td>3.052810</td>\n",
       "      <td>196</td>\n",
       "      <td>-99</td>\n",
       "      <td>0</td>\n",
       "      <td>1898.588013</td>\n",
       "      <td>0.368630</td>\n",
       "    </tr>\n",
       "    <tr>\n",
       "      <th>3</th>\n",
       "      <td>15173787</td>\n",
       "      <td>0.000854</td>\n",
       "      <td>0.999903</td>\n",
       "      <td>5.228067</td>\n",
       "      <td>0.220739</td>\n",
       "      <td>0.076389</td>\n",
       "      <td>4.271331</td>\n",
       "      <td>3.276358</td>\n",
       "      <td>4010.781738</td>\n",
       "      <td>0.053779</td>\n",
       "      <td>...</td>\n",
       "      <td>16909.515625</td>\n",
       "      <td>9141.426758</td>\n",
       "      <td>3.087461</td>\n",
       "      <td>3.218034</td>\n",
       "      <td>2.375592</td>\n",
       "      <td>137</td>\n",
       "      <td>-99</td>\n",
       "      <td>0</td>\n",
       "      <td>1840.410034</td>\n",
       "      <td>0.246045</td>\n",
       "    </tr>\n",
       "    <tr>\n",
       "      <th>4</th>\n",
       "      <td>1102544</td>\n",
       "      <td>0.001129</td>\n",
       "      <td>0.999995</td>\n",
       "      <td>39.069534</td>\n",
       "      <td>1.898197</td>\n",
       "      <td>0.120936</td>\n",
       "      <td>4.984982</td>\n",
       "      <td>0.468348</td>\n",
       "      <td>4144.546875</td>\n",
       "      <td>0.004491</td>\n",
       "      <td>...</td>\n",
       "      <td>97612.804688</td>\n",
       "      <td>47118.785156</td>\n",
       "      <td>4.632295</td>\n",
       "      <td>4.711155</td>\n",
       "      <td>4.296878</td>\n",
       "      <td>477</td>\n",
       "      <td>-99</td>\n",
       "      <td>0</td>\n",
       "      <td>1899.793945</td>\n",
       "      <td>0.222060</td>\n",
       "    </tr>\n",
       "    <tr>\n",
       "      <th>5</th>\n",
       "      <td>18316844</td>\n",
       "      <td>0.000819</td>\n",
       "      <td>0.995340</td>\n",
       "      <td>3.638690</td>\n",
       "      <td>0.250140</td>\n",
       "      <td>0.232313</td>\n",
       "      <td>12.628694</td>\n",
       "      <td>13.217284</td>\n",
       "      <td>1452.949585</td>\n",
       "      <td>0.105752</td>\n",
       "      <td>...</td>\n",
       "      <td>12886.835938</td>\n",
       "      <td>8040.938477</td>\n",
       "      <td>3.673540</td>\n",
       "      <td>3.150380</td>\n",
       "      <td>2.974392</td>\n",
       "      <td>258</td>\n",
       "      <td>-99</td>\n",
       "      <td>0</td>\n",
       "      <td>1823.130981</td>\n",
       "      <td>0.272359</td>\n",
       "    </tr>\n",
       "    <tr>\n",
       "      <th>6</th>\n",
       "      <td>16522942</td>\n",
       "      <td>0.005190</td>\n",
       "      <td>0.999985</td>\n",
       "      <td>38.920113</td>\n",
       "      <td>0.151273</td>\n",
       "      <td>0.216020</td>\n",
       "      <td>15.352684</td>\n",
       "      <td>1.700249</td>\n",
       "      <td>3912.482666</td>\n",
       "      <td>0.006991</td>\n",
       "      <td>...</td>\n",
       "      <td>24599.054688</td>\n",
       "      <td>10370.023438</td>\n",
       "      <td>2.495311</td>\n",
       "      <td>3.306201</td>\n",
       "      <td>2.926639</td>\n",
       "      <td>358</td>\n",
       "      <td>-99</td>\n",
       "      <td>0</td>\n",
       "      <td>1665.762939</td>\n",
       "      <td>0.229626</td>\n",
       "    </tr>\n",
       "    <tr>\n",
       "      <th>7</th>\n",
       "      <td>3341177</td>\n",
       "      <td>0.000632</td>\n",
       "      <td>0.999601</td>\n",
       "      <td>4.127854</td>\n",
       "      <td>0.149296</td>\n",
       "      <td>0.115681</td>\n",
       "      <td>10.482354</td>\n",
       "      <td>10.820628</td>\n",
       "      <td>7682.583008</td>\n",
       "      <td>0.052060</td>\n",
       "      <td>...</td>\n",
       "      <td>20122.953125</td>\n",
       "      <td>8500.297852</td>\n",
       "      <td>2.179665</td>\n",
       "      <td>2.471615</td>\n",
       "      <td>2.449492</td>\n",
       "      <td>292</td>\n",
       "      <td>-99</td>\n",
       "      <td>0</td>\n",
       "      <td>1930.380981</td>\n",
       "      <td>0.370381</td>\n",
       "    </tr>\n",
       "    <tr>\n",
       "      <th>8</th>\n",
       "      <td>13870233</td>\n",
       "      <td>0.001652</td>\n",
       "      <td>0.999876</td>\n",
       "      <td>11.274630</td>\n",
       "      <td>0.320217</td>\n",
       "      <td>0.177103</td>\n",
       "      <td>8.269794</td>\n",
       "      <td>3.301484</td>\n",
       "      <td>3796.261719</td>\n",
       "      <td>0.079522</td>\n",
       "      <td>...</td>\n",
       "      <td>10330.231445</td>\n",
       "      <td>24728.355469</td>\n",
       "      <td>3.445711</td>\n",
       "      <td>2.545625</td>\n",
       "      <td>3.273179</td>\n",
       "      <td>222</td>\n",
       "      <td>-99</td>\n",
       "      <td>0</td>\n",
       "      <td>1839.758057</td>\n",
       "      <td>0.348409</td>\n",
       "    </tr>\n",
       "    <tr>\n",
       "      <th>9</th>\n",
       "      <td>17913585</td>\n",
       "      <td>0.001048</td>\n",
       "      <td>0.999771</td>\n",
       "      <td>8.732768</td>\n",
       "      <td>0.754453</td>\n",
       "      <td>0.268545</td>\n",
       "      <td>11.076645</td>\n",
       "      <td>5.844945</td>\n",
       "      <td>1901.681274</td>\n",
       "      <td>0.041319</td>\n",
       "      <td>...</td>\n",
       "      <td>15422.355469</td>\n",
       "      <td>25520.925781</td>\n",
       "      <td>3.986849</td>\n",
       "      <td>3.874437</td>\n",
       "      <td>3.473346</td>\n",
       "      <td>454</td>\n",
       "      <td>-99</td>\n",
       "      <td>0</td>\n",
       "      <td>1809.005981</td>\n",
       "      <td>0.269867</td>\n",
       "    </tr>\n",
       "  </tbody>\n",
       "</table>\n",
       "<p>10 rows × 51 columns</p>\n",
       "</div>"
      ],
      "text/plain": [
       "         id  LifeTime      dira  FlightDistance  FlightDistanceError  \\\n",
       "0  18453471  0.001578  0.999999       14.033335             0.681401   \n",
       "1   5364094  0.000988  0.999705        5.536157             0.302341   \n",
       "2  11130990  0.000877  0.999984        6.117302             0.276463   \n",
       "3  15173787  0.000854  0.999903        5.228067             0.220739   \n",
       "4   1102544  0.001129  0.999995       39.069534             1.898197   \n",
       "5  18316844  0.000819  0.995340        3.638690             0.250140   \n",
       "6  16522942  0.005190  0.999985       38.920113             0.151273   \n",
       "7   3341177  0.000632  0.999601        4.127854             0.149296   \n",
       "8  13870233  0.001652  0.999876       11.274630             0.320217   \n",
       "9  17913585  0.001048  0.999771        8.732768             0.754453   \n",
       "\n",
       "         IP      IPSig  VertexChi2           pt   DOCAone  ...          p1_p  \\\n",
       "0  0.016039   0.451886    1.900433  1482.037476  0.066667  ...  12290.760742   \n",
       "1  0.142163   9.564503    0.865666  3050.720703  0.024022  ...  16562.667969   \n",
       "2  0.034746   1.970751   10.975849  3895.908691  0.055044  ...  22695.388672   \n",
       "3  0.076389   4.271331    3.276358  4010.781738  0.053779  ...  16909.515625   \n",
       "4  0.120936   4.984982    0.468348  4144.546875  0.004491  ...  97612.804688   \n",
       "5  0.232313  12.628694   13.217284  1452.949585  0.105752  ...  12886.835938   \n",
       "6  0.216020  15.352684    1.700249  3912.482666  0.006991  ...  24599.054688   \n",
       "7  0.115681  10.482354   10.820628  7682.583008  0.052060  ...  20122.953125   \n",
       "8  0.177103   8.269794    3.301484  3796.261719  0.079522  ...  10330.231445   \n",
       "9  0.268545  11.076645    5.844945  1901.681274  0.041319  ...  15422.355469   \n",
       "\n",
       "           p2_p    p0_eta    p1_eta    p2_eta  SPDhits  production  signal  \\\n",
       "0  39264.398438  3.076006  4.003800  4.031514      458         -99       0   \n",
       "1   7341.257812  3.228553  2.786543  2.975564      406         -99       0   \n",
       "2  10225.309570  3.536903  2.865686  3.052810      196         -99       0   \n",
       "3   9141.426758  3.087461  3.218034  2.375592      137         -99       0   \n",
       "4  47118.785156  4.632295  4.711155  4.296878      477         -99       0   \n",
       "5   8040.938477  3.673540  3.150380  2.974392      258         -99       0   \n",
       "6  10370.023438  2.495311  3.306201  2.926639      358         -99       0   \n",
       "7   8500.297852  2.179665  2.471615  2.449492      292         -99       0   \n",
       "8  24728.355469  3.445711  2.545625  3.273179      222         -99       0   \n",
       "9  25520.925781  3.986849  3.874437  3.473346      454         -99       0   \n",
       "\n",
       "          mass  min_ANNmuon  \n",
       "0  1866.300049     0.277559  \n",
       "1  1727.095947     0.225924  \n",
       "2  1898.588013     0.368630  \n",
       "3  1840.410034     0.246045  \n",
       "4  1899.793945     0.222060  \n",
       "5  1823.130981     0.272359  \n",
       "6  1665.762939     0.229626  \n",
       "7  1930.380981     0.370381  \n",
       "8  1839.758057     0.348409  \n",
       "9  1809.005981     0.269867  \n",
       "\n",
       "[10 rows x 51 columns]"
      ]
     },
     "execution_count": null,
     "metadata": {},
     "output_type": "execute_result"
    }
   ],
   "source": [
    "train.head(10)"
   ]
  },
  {
   "cell_type": "markdown",
   "metadata": {},
   "source": [
    "Similar to `DataFrame.head`, the `DataFrame.tail` method returns the _last_ five rows of a `pandas.DataFrame`:"
   ]
  },
  {
   "cell_type": "code",
   "execution_count": null,
   "metadata": {},
   "outputs": [
    {
     "data": {
      "text/html": [
       "<div>\n",
       "<style scoped>\n",
       "    .dataframe tbody tr th:only-of-type {\n",
       "        vertical-align: middle;\n",
       "    }\n",
       "\n",
       "    .dataframe tbody tr th {\n",
       "        vertical-align: top;\n",
       "    }\n",
       "\n",
       "    .dataframe thead th {\n",
       "        text-align: right;\n",
       "    }\n",
       "</style>\n",
       "<table border=\"1\" class=\"dataframe\">\n",
       "  <thead>\n",
       "    <tr style=\"text-align: right;\">\n",
       "      <th></th>\n",
       "      <th>id</th>\n",
       "      <th>LifeTime</th>\n",
       "      <th>dira</th>\n",
       "      <th>FlightDistance</th>\n",
       "      <th>FlightDistanceError</th>\n",
       "      <th>IP</th>\n",
       "      <th>IPSig</th>\n",
       "      <th>VertexChi2</th>\n",
       "      <th>pt</th>\n",
       "      <th>DOCAone</th>\n",
       "      <th>...</th>\n",
       "      <th>p1_p</th>\n",
       "      <th>p2_p</th>\n",
       "      <th>p0_eta</th>\n",
       "      <th>p1_eta</th>\n",
       "      <th>p2_eta</th>\n",
       "      <th>SPDhits</th>\n",
       "      <th>production</th>\n",
       "      <th>signal</th>\n",
       "      <th>mass</th>\n",
       "      <th>min_ANNmuon</th>\n",
       "    </tr>\n",
       "  </thead>\n",
       "  <tbody>\n",
       "    <tr>\n",
       "      <th>67548</th>\n",
       "      <td>8697118</td>\n",
       "      <td>0.002119</td>\n",
       "      <td>0.999994</td>\n",
       "      <td>13.959758</td>\n",
       "      <td>0.218555</td>\n",
       "      <td>0.048056</td>\n",
       "      <td>4.228432</td>\n",
       "      <td>2.259959</td>\n",
       "      <td>4448.312500</td>\n",
       "      <td>0.050823</td>\n",
       "      <td>...</td>\n",
       "      <td>21479.021484</td>\n",
       "      <td>11186.428711</td>\n",
       "      <td>3.243758</td>\n",
       "      <td>2.662427</td>\n",
       "      <td>2.909159</td>\n",
       "      <td>236</td>\n",
       "      <td>5</td>\n",
       "      <td>1</td>\n",
       "      <td>1778.930176</td>\n",
       "      <td>0.613175</td>\n",
       "    </tr>\n",
       "    <tr>\n",
       "      <th>67549</th>\n",
       "      <td>16518324</td>\n",
       "      <td>0.002150</td>\n",
       "      <td>0.999994</td>\n",
       "      <td>17.951668</td>\n",
       "      <td>0.362415</td>\n",
       "      <td>0.059266</td>\n",
       "      <td>4.356027</td>\n",
       "      <td>1.288439</td>\n",
       "      <td>4094.758545</td>\n",
       "      <td>0.027567</td>\n",
       "      <td>...</td>\n",
       "      <td>33156.484375</td>\n",
       "      <td>7878.073730</td>\n",
       "      <td>2.891281</td>\n",
       "      <td>3.163634</td>\n",
       "      <td>3.220385</td>\n",
       "      <td>461</td>\n",
       "      <td>1</td>\n",
       "      <td>1</td>\n",
       "      <td>1784.219360</td>\n",
       "      <td>0.700559</td>\n",
       "    </tr>\n",
       "    <tr>\n",
       "      <th>67550</th>\n",
       "      <td>8826363</td>\n",
       "      <td>0.000969</td>\n",
       "      <td>0.999954</td>\n",
       "      <td>5.089369</td>\n",
       "      <td>0.250686</td>\n",
       "      <td>0.051560</td>\n",
       "      <td>2.790214</td>\n",
       "      <td>1.725869</td>\n",
       "      <td>2481.475830</td>\n",
       "      <td>0.057835</td>\n",
       "      <td>...</td>\n",
       "      <td>11928.290039</td>\n",
       "      <td>10929.805664</td>\n",
       "      <td>3.189317</td>\n",
       "      <td>3.259355</td>\n",
       "      <td>2.774369</td>\n",
       "      <td>125</td>\n",
       "      <td>5</td>\n",
       "      <td>1</td>\n",
       "      <td>1781.661987</td>\n",
       "      <td>0.316008</td>\n",
       "    </tr>\n",
       "    <tr>\n",
       "      <th>67551</th>\n",
       "      <td>13463112</td>\n",
       "      <td>0.001296</td>\n",
       "      <td>0.999996</td>\n",
       "      <td>18.405382</td>\n",
       "      <td>0.580693</td>\n",
       "      <td>0.051905</td>\n",
       "      <td>3.617818</td>\n",
       "      <td>0.454716</td>\n",
       "      <td>3977.924561</td>\n",
       "      <td>0.035837</td>\n",
       "      <td>...</td>\n",
       "      <td>46318.148438</td>\n",
       "      <td>24221.369141</td>\n",
       "      <td>4.326723</td>\n",
       "      <td>3.802581</td>\n",
       "      <td>3.336862</td>\n",
       "      <td>88</td>\n",
       "      <td>1</td>\n",
       "      <td>1</td>\n",
       "      <td>1781.596558</td>\n",
       "      <td>0.597442</td>\n",
       "    </tr>\n",
       "    <tr>\n",
       "      <th>67552</th>\n",
       "      <td>16716947</td>\n",
       "      <td>0.000550</td>\n",
       "      <td>0.999966</td>\n",
       "      <td>3.726029</td>\n",
       "      <td>0.281888</td>\n",
       "      <td>0.031183</td>\n",
       "      <td>2.172310</td>\n",
       "      <td>3.116862</td>\n",
       "      <td>3298.051025</td>\n",
       "      <td>0.024616</td>\n",
       "      <td>...</td>\n",
       "      <td>17293.789062</td>\n",
       "      <td>10099.850586</td>\n",
       "      <td>3.095043</td>\n",
       "      <td>3.226203</td>\n",
       "      <td>2.850009</td>\n",
       "      <td>137</td>\n",
       "      <td>1</td>\n",
       "      <td>1</td>\n",
       "      <td>1772.682983</td>\n",
       "      <td>0.602006</td>\n",
       "    </tr>\n",
       "  </tbody>\n",
       "</table>\n",
       "<p>5 rows × 51 columns</p>\n",
       "</div>"
      ],
      "text/plain": [
       "             id  LifeTime      dira  FlightDistance  FlightDistanceError  \\\n",
       "67548   8697118  0.002119  0.999994       13.959758             0.218555   \n",
       "67549  16518324  0.002150  0.999994       17.951668             0.362415   \n",
       "67550   8826363  0.000969  0.999954        5.089369             0.250686   \n",
       "67551  13463112  0.001296  0.999996       18.405382             0.580693   \n",
       "67552  16716947  0.000550  0.999966        3.726029             0.281888   \n",
       "\n",
       "             IP     IPSig  VertexChi2           pt   DOCAone  ...  \\\n",
       "67548  0.048056  4.228432    2.259959  4448.312500  0.050823  ...   \n",
       "67549  0.059266  4.356027    1.288439  4094.758545  0.027567  ...   \n",
       "67550  0.051560  2.790214    1.725869  2481.475830  0.057835  ...   \n",
       "67551  0.051905  3.617818    0.454716  3977.924561  0.035837  ...   \n",
       "67552  0.031183  2.172310    3.116862  3298.051025  0.024616  ...   \n",
       "\n",
       "               p1_p          p2_p    p0_eta    p1_eta    p2_eta  SPDhits  \\\n",
       "67548  21479.021484  11186.428711  3.243758  2.662427  2.909159      236   \n",
       "67549  33156.484375   7878.073730  2.891281  3.163634  3.220385      461   \n",
       "67550  11928.290039  10929.805664  3.189317  3.259355  2.774369      125   \n",
       "67551  46318.148438  24221.369141  4.326723  3.802581  3.336862       88   \n",
       "67552  17293.789062  10099.850586  3.095043  3.226203  2.850009      137   \n",
       "\n",
       "       production  signal         mass  min_ANNmuon  \n",
       "67548           5       1  1778.930176     0.613175  \n",
       "67549           1       1  1784.219360     0.700559  \n",
       "67550           5       1  1781.661987     0.316008  \n",
       "67551           1       1  1781.596558     0.597442  \n",
       "67552           1       1  1772.682983     0.602006  \n",
       "\n",
       "[5 rows x 51 columns]"
      ]
     },
     "execution_count": null,
     "metadata": {},
     "output_type": "execute_result"
    }
   ],
   "source": [
    "train.tail()"
   ]
  },
  {
   "cell_type": "markdown",
   "metadata": {},
   "source": [
    "One problem with the above previews is that the dataset has too many columns and `DataFrame.head` just shows `...` for intermediate columns. To fix that we can configure the [options in pandas](https://pandas.pydata.org/pandas-docs/version/0.15/options.html) which we can wrap inside a simple function:"
   ]
  },
  {
   "cell_type": "code",
   "execution_count": null,
   "metadata": {},
   "outputs": [
    {
     "data": {
      "text/html": [
       "<div>\n",
       "<style scoped>\n",
       "    .dataframe tbody tr th:only-of-type {\n",
       "        vertical-align: middle;\n",
       "    }\n",
       "\n",
       "    .dataframe tbody tr th {\n",
       "        vertical-align: top;\n",
       "    }\n",
       "\n",
       "    .dataframe thead th {\n",
       "        text-align: right;\n",
       "    }\n",
       "</style>\n",
       "<table border=\"1\" class=\"dataframe\">\n",
       "  <thead>\n",
       "    <tr style=\"text-align: right;\">\n",
       "      <th></th>\n",
       "      <th>id</th>\n",
       "      <th>LifeTime</th>\n",
       "      <th>dira</th>\n",
       "      <th>FlightDistance</th>\n",
       "      <th>FlightDistanceError</th>\n",
       "      <th>IP</th>\n",
       "      <th>IPSig</th>\n",
       "      <th>VertexChi2</th>\n",
       "      <th>pt</th>\n",
       "      <th>DOCAone</th>\n",
       "      <th>DOCAtwo</th>\n",
       "      <th>DOCAthree</th>\n",
       "      <th>IP_p0p2</th>\n",
       "      <th>IP_p1p2</th>\n",
       "      <th>isolationa</th>\n",
       "      <th>isolationb</th>\n",
       "      <th>isolationc</th>\n",
       "      <th>isolationd</th>\n",
       "      <th>isolatione</th>\n",
       "      <th>isolationf</th>\n",
       "      <th>iso</th>\n",
       "      <th>CDF1</th>\n",
       "      <th>CDF2</th>\n",
       "      <th>CDF3</th>\n",
       "      <th>ISO_SumBDT</th>\n",
       "      <th>p0_IsoBDT</th>\n",
       "      <th>p1_IsoBDT</th>\n",
       "      <th>p2_IsoBDT</th>\n",
       "      <th>p0_track_Chi2Dof</th>\n",
       "      <th>p1_track_Chi2Dof</th>\n",
       "      <th>p2_track_Chi2Dof</th>\n",
       "      <th>p0_IP</th>\n",
       "      <th>p1_IP</th>\n",
       "      <th>p2_IP</th>\n",
       "      <th>p0_IPSig</th>\n",
       "      <th>p1_IPSig</th>\n",
       "      <th>p2_IPSig</th>\n",
       "      <th>p0_pt</th>\n",
       "      <th>p1_pt</th>\n",
       "      <th>p2_pt</th>\n",
       "      <th>p0_p</th>\n",
       "      <th>p1_p</th>\n",
       "      <th>p2_p</th>\n",
       "      <th>p0_eta</th>\n",
       "      <th>p1_eta</th>\n",
       "      <th>p2_eta</th>\n",
       "      <th>SPDhits</th>\n",
       "      <th>production</th>\n",
       "      <th>signal</th>\n",
       "      <th>mass</th>\n",
       "      <th>min_ANNmuon</th>\n",
       "    </tr>\n",
       "  </thead>\n",
       "  <tbody>\n",
       "    <tr>\n",
       "      <th>0</th>\n",
       "      <td>18453471</td>\n",
       "      <td>0.001578</td>\n",
       "      <td>0.999999</td>\n",
       "      <td>14.033335</td>\n",
       "      <td>0.681401</td>\n",
       "      <td>0.016039</td>\n",
       "      <td>0.451886</td>\n",
       "      <td>1.900433</td>\n",
       "      <td>1482.037476</td>\n",
       "      <td>0.066667</td>\n",
       "      <td>0.060602</td>\n",
       "      <td>0.083660</td>\n",
       "      <td>0.208855</td>\n",
       "      <td>0.074343</td>\n",
       "      <td>8</td>\n",
       "      <td>5</td>\n",
       "      <td>7</td>\n",
       "      <td>1.0</td>\n",
       "      <td>0.0</td>\n",
       "      <td>3.0</td>\n",
       "      <td>4.0</td>\n",
       "      <td>0.473952</td>\n",
       "      <td>0.349447</td>\n",
       "      <td>0.329157</td>\n",
       "      <td>-0.579324</td>\n",
       "      <td>-0.256309</td>\n",
       "      <td>-0.215444</td>\n",
       "      <td>-0.107570</td>\n",
       "      <td>1.921700</td>\n",
       "      <td>0.866657</td>\n",
       "      <td>1.230708</td>\n",
       "      <td>0.988054</td>\n",
       "      <td>0.601483</td>\n",
       "      <td>0.277090</td>\n",
       "      <td>16.243183</td>\n",
       "      <td>4.580875</td>\n",
       "      <td>5.939936</td>\n",
       "      <td>353.819733</td>\n",
       "      <td>448.369446</td>\n",
       "      <td>1393.246826</td>\n",
       "      <td>3842.096436</td>\n",
       "      <td>12290.760742</td>\n",
       "      <td>39264.398438</td>\n",
       "      <td>3.076006</td>\n",
       "      <td>4.003800</td>\n",
       "      <td>4.031514</td>\n",
       "      <td>458</td>\n",
       "      <td>-99</td>\n",
       "      <td>0</td>\n",
       "      <td>1866.300049</td>\n",
       "      <td>0.277559</td>\n",
       "    </tr>\n",
       "    <tr>\n",
       "      <th>1</th>\n",
       "      <td>5364094</td>\n",
       "      <td>0.000988</td>\n",
       "      <td>0.999705</td>\n",
       "      <td>5.536157</td>\n",
       "      <td>0.302341</td>\n",
       "      <td>0.142163</td>\n",
       "      <td>9.564503</td>\n",
       "      <td>0.865666</td>\n",
       "      <td>3050.720703</td>\n",
       "      <td>0.024022</td>\n",
       "      <td>0.019245</td>\n",
       "      <td>0.030784</td>\n",
       "      <td>0.336345</td>\n",
       "      <td>0.173161</td>\n",
       "      <td>7</td>\n",
       "      <td>12</td>\n",
       "      <td>2</td>\n",
       "      <td>0.0</td>\n",
       "      <td>1.0</td>\n",
       "      <td>1.0</td>\n",
       "      <td>2.0</td>\n",
       "      <td>0.325785</td>\n",
       "      <td>0.265939</td>\n",
       "      <td>0.192599</td>\n",
       "      <td>-0.873926</td>\n",
       "      <td>-0.223774</td>\n",
       "      <td>-0.224871</td>\n",
       "      <td>-0.425281</td>\n",
       "      <td>0.958776</td>\n",
       "      <td>0.858357</td>\n",
       "      <td>1.810709</td>\n",
       "      <td>0.098752</td>\n",
       "      <td>0.219099</td>\n",
       "      <td>0.614524</td>\n",
       "      <td>3.610463</td>\n",
       "      <td>15.555593</td>\n",
       "      <td>11.238523</td>\n",
       "      <td>656.524902</td>\n",
       "      <td>2033.918701</td>\n",
       "      <td>747.137024</td>\n",
       "      <td>8299.368164</td>\n",
       "      <td>16562.667969</td>\n",
       "      <td>7341.257812</td>\n",
       "      <td>3.228553</td>\n",
       "      <td>2.786543</td>\n",
       "      <td>2.975564</td>\n",
       "      <td>406</td>\n",
       "      <td>-99</td>\n",
       "      <td>0</td>\n",
       "      <td>1727.095947</td>\n",
       "      <td>0.225924</td>\n",
       "    </tr>\n",
       "    <tr>\n",
       "      <th>2</th>\n",
       "      <td>11130990</td>\n",
       "      <td>0.000877</td>\n",
       "      <td>0.999984</td>\n",
       "      <td>6.117302</td>\n",
       "      <td>0.276463</td>\n",
       "      <td>0.034746</td>\n",
       "      <td>1.970751</td>\n",
       "      <td>10.975849</td>\n",
       "      <td>3895.908691</td>\n",
       "      <td>0.055044</td>\n",
       "      <td>0.047947</td>\n",
       "      <td>0.096829</td>\n",
       "      <td>0.169165</td>\n",
       "      <td>0.079789</td>\n",
       "      <td>1</td>\n",
       "      <td>0</td>\n",
       "      <td>1</td>\n",
       "      <td>0.0</td>\n",
       "      <td>0.0</td>\n",
       "      <td>0.0</td>\n",
       "      <td>0.0</td>\n",
       "      <td>1.000000</td>\n",
       "      <td>0.786482</td>\n",
       "      <td>0.557760</td>\n",
       "      <td>-0.479636</td>\n",
       "      <td>-0.202451</td>\n",
       "      <td>-0.100762</td>\n",
       "      <td>-0.176424</td>\n",
       "      <td>0.720973</td>\n",
       "      <td>1.408519</td>\n",
       "      <td>1.038347</td>\n",
       "      <td>0.186143</td>\n",
       "      <td>0.215668</td>\n",
       "      <td>0.371820</td>\n",
       "      <td>4.851371</td>\n",
       "      <td>11.590331</td>\n",
       "      <td>13.723293</td>\n",
       "      <td>658.523743</td>\n",
       "      <td>2576.380615</td>\n",
       "      <td>963.652466</td>\n",
       "      <td>11323.134766</td>\n",
       "      <td>22695.388672</td>\n",
       "      <td>10225.309570</td>\n",
       "      <td>3.536903</td>\n",
       "      <td>2.865686</td>\n",
       "      <td>3.052810</td>\n",
       "      <td>196</td>\n",
       "      <td>-99</td>\n",
       "      <td>0</td>\n",
       "      <td>1898.588013</td>\n",
       "      <td>0.368630</td>\n",
       "    </tr>\n",
       "    <tr>\n",
       "      <th>3</th>\n",
       "      <td>15173787</td>\n",
       "      <td>0.000854</td>\n",
       "      <td>0.999903</td>\n",
       "      <td>5.228067</td>\n",
       "      <td>0.220739</td>\n",
       "      <td>0.076389</td>\n",
       "      <td>4.271331</td>\n",
       "      <td>3.276358</td>\n",
       "      <td>4010.781738</td>\n",
       "      <td>0.053779</td>\n",
       "      <td>0.006417</td>\n",
       "      <td>0.044816</td>\n",
       "      <td>0.050989</td>\n",
       "      <td>0.068167</td>\n",
       "      <td>2</td>\n",
       "      <td>2</td>\n",
       "      <td>4</td>\n",
       "      <td>0.0</td>\n",
       "      <td>0.0</td>\n",
       "      <td>0.0</td>\n",
       "      <td>0.0</td>\n",
       "      <td>1.000000</td>\n",
       "      <td>0.501195</td>\n",
       "      <td>0.501195</td>\n",
       "      <td>-0.439453</td>\n",
       "      <td>-0.162267</td>\n",
       "      <td>-0.176424</td>\n",
       "      <td>-0.100762</td>\n",
       "      <td>1.172767</td>\n",
       "      <td>2.044164</td>\n",
       "      <td>0.811454</td>\n",
       "      <td>0.255752</td>\n",
       "      <td>0.210698</td>\n",
       "      <td>0.392195</td>\n",
       "      <td>7.292110</td>\n",
       "      <td>8.778173</td>\n",
       "      <td>16.462036</td>\n",
       "      <td>1047.216187</td>\n",
       "      <td>1351.734131</td>\n",
       "      <td>1685.003662</td>\n",
       "      <td>11502.081055</td>\n",
       "      <td>16909.515625</td>\n",
       "      <td>9141.426758</td>\n",
       "      <td>3.087461</td>\n",
       "      <td>3.218034</td>\n",
       "      <td>2.375592</td>\n",
       "      <td>137</td>\n",
       "      <td>-99</td>\n",
       "      <td>0</td>\n",
       "      <td>1840.410034</td>\n",
       "      <td>0.246045</td>\n",
       "    </tr>\n",
       "    <tr>\n",
       "      <th>4</th>\n",
       "      <td>1102544</td>\n",
       "      <td>0.001129</td>\n",
       "      <td>0.999995</td>\n",
       "      <td>39.069534</td>\n",
       "      <td>1.898197</td>\n",
       "      <td>0.120936</td>\n",
       "      <td>4.984982</td>\n",
       "      <td>0.468348</td>\n",
       "      <td>4144.546875</td>\n",
       "      <td>0.004491</td>\n",
       "      <td>0.037326</td>\n",
       "      <td>0.019026</td>\n",
       "      <td>0.172065</td>\n",
       "      <td>0.131732</td>\n",
       "      <td>0</td>\n",
       "      <td>2</td>\n",
       "      <td>0</td>\n",
       "      <td>0.0</td>\n",
       "      <td>0.0</td>\n",
       "      <td>0.0</td>\n",
       "      <td>0.0</td>\n",
       "      <td>1.000000</td>\n",
       "      <td>1.000000</td>\n",
       "      <td>0.639926</td>\n",
       "      <td>-0.822285</td>\n",
       "      <td>-0.291524</td>\n",
       "      <td>-0.261078</td>\n",
       "      <td>-0.269682</td>\n",
       "      <td>1.523252</td>\n",
       "      <td>0.435325</td>\n",
       "      <td>0.581312</td>\n",
       "      <td>0.270755</td>\n",
       "      <td>0.183355</td>\n",
       "      <td>0.630763</td>\n",
       "      <td>6.783962</td>\n",
       "      <td>3.342091</td>\n",
       "      <td>17.252840</td>\n",
       "      <td>1442.538208</td>\n",
       "      <td>1755.792236</td>\n",
       "      <td>1282.428711</td>\n",
       "      <td>74117.117188</td>\n",
       "      <td>97612.804688</td>\n",
       "      <td>47118.785156</td>\n",
       "      <td>4.632295</td>\n",
       "      <td>4.711155</td>\n",
       "      <td>4.296878</td>\n",
       "      <td>477</td>\n",
       "      <td>-99</td>\n",
       "      <td>0</td>\n",
       "      <td>1899.793945</td>\n",
       "      <td>0.222060</td>\n",
       "    </tr>\n",
       "  </tbody>\n",
       "</table>\n",
       "</div>"
      ],
      "text/plain": [
       "         id  LifeTime      dira  FlightDistance  FlightDistanceError  \\\n",
       "0  18453471  0.001578  0.999999       14.033335             0.681401   \n",
       "1   5364094  0.000988  0.999705        5.536157             0.302341   \n",
       "2  11130990  0.000877  0.999984        6.117302             0.276463   \n",
       "3  15173787  0.000854  0.999903        5.228067             0.220739   \n",
       "4   1102544  0.001129  0.999995       39.069534             1.898197   \n",
       "\n",
       "         IP     IPSig  VertexChi2           pt   DOCAone   DOCAtwo  DOCAthree  \\\n",
       "0  0.016039  0.451886    1.900433  1482.037476  0.066667  0.060602   0.083660   \n",
       "1  0.142163  9.564503    0.865666  3050.720703  0.024022  0.019245   0.030784   \n",
       "2  0.034746  1.970751   10.975849  3895.908691  0.055044  0.047947   0.096829   \n",
       "3  0.076389  4.271331    3.276358  4010.781738  0.053779  0.006417   0.044816   \n",
       "4  0.120936  4.984982    0.468348  4144.546875  0.004491  0.037326   0.019026   \n",
       "\n",
       "    IP_p0p2   IP_p1p2  isolationa  isolationb  isolationc  isolationd  \\\n",
       "0  0.208855  0.074343           8           5           7         1.0   \n",
       "1  0.336345  0.173161           7          12           2         0.0   \n",
       "2  0.169165  0.079789           1           0           1         0.0   \n",
       "3  0.050989  0.068167           2           2           4         0.0   \n",
       "4  0.172065  0.131732           0           2           0         0.0   \n",
       "\n",
       "   isolatione  isolationf  iso      CDF1      CDF2      CDF3  ISO_SumBDT  \\\n",
       "0         0.0         3.0  4.0  0.473952  0.349447  0.329157   -0.579324   \n",
       "1         1.0         1.0  2.0  0.325785  0.265939  0.192599   -0.873926   \n",
       "2         0.0         0.0  0.0  1.000000  0.786482  0.557760   -0.479636   \n",
       "3         0.0         0.0  0.0  1.000000  0.501195  0.501195   -0.439453   \n",
       "4         0.0         0.0  0.0  1.000000  1.000000  0.639926   -0.822285   \n",
       "\n",
       "   p0_IsoBDT  p1_IsoBDT  p2_IsoBDT  p0_track_Chi2Dof  p1_track_Chi2Dof  \\\n",
       "0  -0.256309  -0.215444  -0.107570          1.921700          0.866657   \n",
       "1  -0.223774  -0.224871  -0.425281          0.958776          0.858357   \n",
       "2  -0.202451  -0.100762  -0.176424          0.720973          1.408519   \n",
       "3  -0.162267  -0.176424  -0.100762          1.172767          2.044164   \n",
       "4  -0.291524  -0.261078  -0.269682          1.523252          0.435325   \n",
       "\n",
       "   p2_track_Chi2Dof     p0_IP     p1_IP     p2_IP   p0_IPSig   p1_IPSig  \\\n",
       "0          1.230708  0.988054  0.601483  0.277090  16.243183   4.580875   \n",
       "1          1.810709  0.098752  0.219099  0.614524   3.610463  15.555593   \n",
       "2          1.038347  0.186143  0.215668  0.371820   4.851371  11.590331   \n",
       "3          0.811454  0.255752  0.210698  0.392195   7.292110   8.778173   \n",
       "4          0.581312  0.270755  0.183355  0.630763   6.783962   3.342091   \n",
       "\n",
       "    p2_IPSig        p0_pt        p1_pt        p2_pt          p0_p  \\\n",
       "0   5.939936   353.819733   448.369446  1393.246826   3842.096436   \n",
       "1  11.238523   656.524902  2033.918701   747.137024   8299.368164   \n",
       "2  13.723293   658.523743  2576.380615   963.652466  11323.134766   \n",
       "3  16.462036  1047.216187  1351.734131  1685.003662  11502.081055   \n",
       "4  17.252840  1442.538208  1755.792236  1282.428711  74117.117188   \n",
       "\n",
       "           p1_p          p2_p    p0_eta    p1_eta    p2_eta  SPDhits  \\\n",
       "0  12290.760742  39264.398438  3.076006  4.003800  4.031514      458   \n",
       "1  16562.667969   7341.257812  3.228553  2.786543  2.975564      406   \n",
       "2  22695.388672  10225.309570  3.536903  2.865686  3.052810      196   \n",
       "3  16909.515625   9141.426758  3.087461  3.218034  2.375592      137   \n",
       "4  97612.804688  47118.785156  4.632295  4.711155  4.296878      477   \n",
       "\n",
       "   production  signal         mass  min_ANNmuon  \n",
       "0         -99       0  1866.300049     0.277559  \n",
       "1         -99       0  1727.095947     0.225924  \n",
       "2         -99       0  1898.588013     0.368630  \n",
       "3         -99       0  1840.410034     0.246045  \n",
       "4         -99       0  1899.793945     0.222060  "
      ]
     },
     "metadata": {},
     "output_type": "display_data"
    }
   ],
   "source": [
    "display_large(train.head())"
   ]
  },
  {
   "cell_type": "markdown",
   "metadata": {},
   "source": [
    "### The shape of data"
   ]
  },
  {
   "cell_type": "markdown",
   "metadata": {},
   "source": [
    "Whenever we have a new dataset it is handy to begin by getting an idea of how large the `pandas.DataFrame` is. This can be done with either the `len` or `DataFrame.shape` methods:"
   ]
  },
  {
   "cell_type": "code",
   "execution_count": null,
   "metadata": {},
   "outputs": [
    {
     "data": {
      "text/plain": [
       "(67553, 855819)"
      ]
     },
     "execution_count": null,
     "metadata": {},
     "output_type": "execute_result"
    }
   ],
   "source": [
    "# get number of rows\n",
    "len(train), len(test)"
   ]
  },
  {
   "cell_type": "code",
   "execution_count": null,
   "metadata": {},
   "outputs": [
    {
     "data": {
      "text/plain": [
       "((67553, 51), (855819, 47))"
      ]
     },
     "execution_count": null,
     "metadata": {},
     "output_type": "execute_result"
    }
   ],
   "source": [
    "# get tuples of (n_rows, n_columns)\n",
    "train.shape, test.shape"
   ]
  },
  {
   "cell_type": "markdown",
   "metadata": {},
   "source": [
    "Curiously, the test set has over 10 times more events than the training set 🤔. Looking at the data description on [Kaggle](https://www.kaggle.com/c/flavours-of-physics/data) we see that the test set is actually composed of several types of events\n",
    "\n",
    "> * simulated signal events for the τ → 3μ\n",
    "> * real background data for the τ → 3μ\n",
    "> * simulated events for the control channel, (ignored for scoring, used by agreement test)\n",
    "> * real data for the control channel (ignored for scoring, used by agreement test)\n",
    "\n",
    "which may explain the unusually large test set."
   ]
  },
  {
   "cell_type": "markdown",
   "metadata": {},
   "source": [
    "### Unique values"
   ]
  },
  {
   "cell_type": "markdown",
   "metadata": {},
   "source": [
    "Whenever we see an ID column like `id`, it is useful to perform a sanity check that each value is unique. Otherwise it may be possible that you have duplicates in your data that can bias your models and hence conclusions. "
   ]
  },
  {
   "cell_type": "code",
   "execution_count": null,
   "metadata": {},
   "outputs": [
    {
     "data": {
      "text/plain": [
       "(67553, 855819)"
      ]
     },
     "execution_count": null,
     "metadata": {},
     "output_type": "execute_result"
    }
   ],
   "source": [
    "train[\"id\"].nunique(), test[\"id\"].nunique()"
   ]
  },
  {
   "cell_type": "markdown",
   "metadata": {},
   "source": [
    "Good! The number of unique IDs matches the number of rows in our train and test sets."
   ]
  },
  {
   "cell_type": "markdown",
   "metadata": {},
   "source": [
    "### Info\n",
    "The `DataFrame.info` method is useful to get a quick description of the data, in particular the total number of row, and each column's type and number of non-null values."
   ]
  },
  {
   "cell_type": "code",
   "execution_count": null,
   "metadata": {},
   "outputs": [
    {
     "name": "stdout",
     "output_type": "stream",
     "text": [
      "<class 'pandas.core.frame.DataFrame'>\n",
      "RangeIndex: 67553 entries, 0 to 67552\n",
      "Data columns (total 51 columns):\n",
      " #   Column               Non-Null Count  Dtype  \n",
      "---  ------               --------------  -----  \n",
      " 0   id                   67553 non-null  int64  \n",
      " 1   LifeTime             67553 non-null  float64\n",
      " 2   dira                 67553 non-null  float64\n",
      " 3   FlightDistance       67553 non-null  float64\n",
      " 4   FlightDistanceError  67553 non-null  float64\n",
      " 5   IP                   67553 non-null  float64\n",
      " 6   IPSig                67553 non-null  float64\n",
      " 7   VertexChi2           67553 non-null  float64\n",
      " 8   pt                   67553 non-null  float64\n",
      " 9   DOCAone              67553 non-null  float64\n",
      " 10  DOCAtwo              67553 non-null  float64\n",
      " 11  DOCAthree            67553 non-null  float64\n",
      " 12  IP_p0p2              67553 non-null  float64\n",
      " 13  IP_p1p2              67553 non-null  float64\n",
      " 14  isolationa           67553 non-null  int64  \n",
      " 15  isolationb           67553 non-null  int64  \n",
      " 16  isolationc           67553 non-null  int64  \n",
      " 17  isolationd           67553 non-null  float64\n",
      " 18  isolatione           67553 non-null  float64\n",
      " 19  isolationf           67553 non-null  float64\n",
      " 20  iso                  67553 non-null  float64\n",
      " 21  CDF1                 67553 non-null  float64\n",
      " 22  CDF2                 67553 non-null  float64\n",
      " 23  CDF3                 67553 non-null  float64\n",
      " 24  ISO_SumBDT           67553 non-null  float64\n",
      " 25  p0_IsoBDT            67553 non-null  float64\n",
      " 26  p1_IsoBDT            67553 non-null  float64\n",
      " 27  p2_IsoBDT            67553 non-null  float64\n",
      " 28  p0_track_Chi2Dof     67553 non-null  float64\n",
      " 29  p1_track_Chi2Dof     67553 non-null  float64\n",
      " 30  p2_track_Chi2Dof     67553 non-null  float64\n",
      " 31  p0_IP                67553 non-null  float64\n",
      " 32  p1_IP                67553 non-null  float64\n",
      " 33  p2_IP                67553 non-null  float64\n",
      " 34  p0_IPSig             67553 non-null  float64\n",
      " 35  p1_IPSig             67553 non-null  float64\n",
      " 36  p2_IPSig             67553 non-null  float64\n",
      " 37  p0_pt                67553 non-null  float64\n",
      " 38  p1_pt                67553 non-null  float64\n",
      " 39  p2_pt                67553 non-null  float64\n",
      " 40  p0_p                 67553 non-null  float64\n",
      " 41  p1_p                 67553 non-null  float64\n",
      " 42  p2_p                 67553 non-null  float64\n",
      " 43  p0_eta               67553 non-null  float64\n",
      " 44  p1_eta               67553 non-null  float64\n",
      " 45  p2_eta               67553 non-null  float64\n",
      " 46  SPDhits              67553 non-null  int64  \n",
      " 47  production           67553 non-null  int64  \n",
      " 48  signal               67553 non-null  int64  \n",
      " 49  mass                 67553 non-null  float64\n",
      " 50  min_ANNmuon          67553 non-null  float64\n",
      "dtypes: float64(44), int64(7)\n",
      "memory usage: 26.3 MB\n"
     ]
    }
   ],
   "source": [
    "train.info()"
   ]
  },
  {
   "cell_type": "markdown",
   "metadata": {},
   "source": [
    "Luckily for us, it looks like we're dealing with purely numeric data types and there's no missing values 🥳🥳🥳! Let's verify the latter is indeed true:"
   ]
  },
  {
   "cell_type": "code",
   "execution_count": null,
   "metadata": {},
   "outputs": [],
   "source": [
    "assert train.isnull().sum().sum() == 0\n",
    "assert test.isnull().sum().sum() == 0"
   ]
  },
  {
   "cell_type": "markdown",
   "metadata": {},
   "source": [
    "## A first look a data visualisation"
   ]
  },
  {
   "cell_type": "markdown",
   "metadata": {},
   "source": [
    "Another quick way to get a feel for the type of numeric data that you are dealing with is to plot one or more of the following:\n",
    "\n",
    "* **Histograms:** shows the number of instances (on the vertical axis) that have a given value range (on the horizontal axis). Useful for understanding the _shape_ of a single variable.\n",
    "* **Count plots:** shows the counts of observations in each categorical bin using bars. A count plot can be thought of as a histogram across a categorical, instead of quantitative, variable.\n",
    "\n",
    "To create these plots we will use the [seaborn](https://seaborn.pydata.org/) data visualisation library. In the same way the `pd` is the accepted alias for pandas, one use `sns` as the alias for seaborn."
   ]
  },
  {
   "cell_type": "markdown",
   "metadata": {},
   "source": [
    "### Histograms"
   ]
  },
  {
   "cell_type": "markdown",
   "metadata": {},
   "source": [
    "Histograms are one of the most simple, yet powerful types of data visualisation. They can quickly tell us which values are most frequent, whether there are outliers and more. To create a histogram in seaborn, we can use the `seaborn.distplot` method:"
   ]
  },
  {
   "cell_type": "code",
   "execution_count": null,
   "metadata": {},
   "outputs": [
    {
     "data": {
      "image/png": "[encoded data removed]",
      "text/plain": [
       "<Figure size 432x288 with 1 Axes>"
      ]
     },
     "metadata": {},
     "output_type": "display_data"
    }
   ],
   "source": [
    "sns.distplot(train.query(\"signal == 1\")[\"IPSig\"], kde=False)\n",
    "sns.distplot(train.query(\"signal == 0\")[\"IPSig\"], kde=False)\n",
    "plt.show()"
   ]
  },
  {
   "cell_type": "markdown",
   "metadata": {},
   "source": [
    "Doing this manually for each feature of interest is tiresome, so let's write a simple function that genelaralises the process:"
   ]
  },
  {
   "cell_type": "code",
   "execution_count": null,
   "metadata": {},
   "outputs": [],
   "source": [
    "def plot_histogram(feature_name: str, df: pd.DataFrame):\n",
    "    sns.distplot(df.query(\"signal == 1\")[feature_name], label=\"Signal\", kde=False)\n",
    "    sns.distplot(df.query(\"signal == 0\")[feature_name], label=\"Background\", kde=False)\n",
    "    plt.legend(bbox_to_anchor=(1.01, 1), loc=\"upper left\")\n",
    "    plt.show()"
   ]
  },
  {
   "cell_type": "code",
   "execution_count": null,
   "metadata": {},
   "outputs": [
    {
     "data": {
      "image/png": "[encoded data removed]",
      "text/plain": [
       "<Figure size 432x288 with 1 Axes>"
      ]
     },
     "metadata": {},
     "output_type": "display_data"
    }
   ],
   "source": [
    "plot_histogram(\"IPSig\", train)"
   ]
  },
  {
   "cell_type": "code",
   "execution_count": null,
   "metadata": {},
   "outputs": [
    {
     "data": {
      "image/png": "[encoded data removed]",
      "text/plain": [
       "<Figure size 432x288 with 1 Axes>"
      ]
     },
     "metadata": {},
     "output_type": "display_data"
    }
   ],
   "source": [
    "plot_histogram(\"p0_track_Chi2Dof\", train)"
   ]
  },
  {
   "cell_type": "markdown",
   "metadata": {},
   "source": [
    "### Count plots"
   ]
  },
  {
   "cell_type": "markdown",
   "metadata": {},
   "source": [
    "Count plots are handy when you have a categorical feature like `signal` and you want to quickly see the frequencies per category: "
   ]
  },
  {
   "cell_type": "code",
   "execution_count": null,
   "metadata": {},
   "outputs": [
    {
     "data": {
      "image/png": "[encoded data removed]",
      "text/plain": [
       "<Figure size 432x288 with 1 Axes>"
      ]
     },
     "metadata": {},
     "output_type": "display_data"
    }
   ],
   "source": [
    "sns.countplot(x=\"signal\", data=train)\n",
    "plt.show()"
   ]
  },
  {
   "cell_type": "code",
   "execution_count": null,
   "metadata": {},
   "outputs": [
    {
     "data": {
      "text/plain": [
       "1    0.616908\n",
       "0    0.383092\n",
       "Name: signal, dtype: float64"
      ]
     },
     "execution_count": null,
     "metadata": {},
     "output_type": "execute_result"
    }
   ],
   "source": [
    "train[\"signal\"].value_counts(normalize=True)"
   ]
  },
  {
   "cell_type": "markdown",
   "metadata": {},
   "source": [
    "From the plot and numbers we see that the \"signa\" and \"background\" classes appear in approximately a 3:2 ratio. If we built a dumb classifier that just classifies every single event as \"signal\", then we would be right about 61.6% of the time! As we shall see below, this shows why accuracy is _**not**_ the preferred performance measures for classifiers, especially when you are dealing with _**skewed datasets**_."
   ]
  },
  {
   "cell_type": "markdown",
   "metadata": {},
   "source": [
    "## Feature engineering"
   ]
  },
  {
   "cell_type": "markdown",
   "metadata": {},
   "source": [
    "Before we prepare the data for training machine learning models, it is useful to experiment with creating new features that may provide more information than the raw data alone. For example, we might want to include the ratio of the flight distance and the error:"
   ]
  },
  {
   "cell_type": "code",
   "execution_count": null,
   "metadata": {},
   "outputs": [],
   "source": [
    "train['flight_distance_over_error'] = train['FlightDistance'] / train['FlightDistanceError']"
   ]
  },
  {
   "cell_type": "markdown",
   "metadata": {},
   "source": [
    "Similarly, we might want to extract the maximum quality of the muon tracks:"
   ]
  },
  {
   "cell_type": "code",
   "execution_count": null,
   "metadata": {},
   "outputs": [],
   "source": [
    "train[\"p_track_Chi2Dof_max\"] = train.loc[:, [\"p0_track_Chi2Dof\", \"p1_track_Chi2Dof\", \"p2_track_Chi2Dof\"]].max(axis=1)"
   ]
  },
  {
   "cell_type": "markdown",
   "metadata": {},
   "source": [
    "Let's wrap these steps into a simple function:"
   ]
  },
  {
   "cell_type": "code",
   "execution_count": null,
   "metadata": {},
   "outputs": [],
   "source": [
    "def add_features(df):\n",
    "    df[\"flight_distance_over_error\"] = df[\"FlightDistance\"] / df[\"FlightDistanceError\"]\n",
    "    df[\"p_track_Chi2Dof_max\"] = df.loc[:, [\"p0_track_Chi2Dof\", \"p1_track_Chi2Dof\", \"p2_track_Chi2Dof\"]].max(axis=1)\n",
    "    return df"
   ]
  },
  {
   "cell_type": "code",
   "execution_count": null,
   "metadata": {},
   "outputs": [],
   "source": [
    "train = add_features(train)\n",
    "test = add_features(test)"
   ]
  },
  {
   "cell_type": "code",
   "execution_count": null,
   "metadata": {},
   "outputs": [
    {
     "data": {
      "text/html": [
       "<div>\n",
       "<style scoped>\n",
       "    .dataframe tbody tr th:only-of-type {\n",
       "        vertical-align: middle;\n",
       "    }\n",
       "\n",
       "    .dataframe tbody tr th {\n",
       "        vertical-align: top;\n",
       "    }\n",
       "\n",
       "    .dataframe thead th {\n",
       "        text-align: right;\n",
       "    }\n",
       "</style>\n",
       "<table border=\"1\" class=\"dataframe\">\n",
       "  <thead>\n",
       "    <tr style=\"text-align: right;\">\n",
       "      <th></th>\n",
       "      <th>id</th>\n",
       "      <th>LifeTime</th>\n",
       "      <th>dira</th>\n",
       "      <th>FlightDistance</th>\n",
       "      <th>FlightDistanceError</th>\n",
       "      <th>IP</th>\n",
       "      <th>IPSig</th>\n",
       "      <th>VertexChi2</th>\n",
       "      <th>pt</th>\n",
       "      <th>DOCAone</th>\n",
       "      <th>...</th>\n",
       "      <th>p0_eta</th>\n",
       "      <th>p1_eta</th>\n",
       "      <th>p2_eta</th>\n",
       "      <th>SPDhits</th>\n",
       "      <th>production</th>\n",
       "      <th>signal</th>\n",
       "      <th>mass</th>\n",
       "      <th>min_ANNmuon</th>\n",
       "      <th>flight_distance_over_error</th>\n",
       "      <th>p_track_Chi2Dof_max</th>\n",
       "    </tr>\n",
       "  </thead>\n",
       "  <tbody>\n",
       "    <tr>\n",
       "      <th>0</th>\n",
       "      <td>18453471</td>\n",
       "      <td>0.001578</td>\n",
       "      <td>0.999999</td>\n",
       "      <td>14.033335</td>\n",
       "      <td>0.681401</td>\n",
       "      <td>0.016039</td>\n",
       "      <td>0.451886</td>\n",
       "      <td>1.900433</td>\n",
       "      <td>1482.037476</td>\n",
       "      <td>0.066667</td>\n",
       "      <td>...</td>\n",
       "      <td>3.076006</td>\n",
       "      <td>4.0038</td>\n",
       "      <td>4.031514</td>\n",
       "      <td>458</td>\n",
       "      <td>-99</td>\n",
       "      <td>0</td>\n",
       "      <td>1866.300049</td>\n",
       "      <td>0.277559</td>\n",
       "      <td>20.594827</td>\n",
       "      <td>1.9217</td>\n",
       "    </tr>\n",
       "  </tbody>\n",
       "</table>\n",
       "<p>1 rows × 53 columns</p>\n",
       "</div>"
      ],
      "text/plain": [
       "         id  LifeTime      dira  FlightDistance  FlightDistanceError  \\\n",
       "0  18453471  0.001578  0.999999       14.033335             0.681401   \n",
       "\n",
       "         IP     IPSig  VertexChi2           pt   DOCAone  ...    p0_eta  \\\n",
       "0  0.016039  0.451886    1.900433  1482.037476  0.066667  ...  3.076006   \n",
       "\n",
       "   p1_eta    p2_eta  SPDhits  production  signal         mass  min_ANNmuon  \\\n",
       "0  4.0038  4.031514      458         -99       0  1866.300049     0.277559   \n",
       "\n",
       "   flight_distance_over_error  p_track_Chi2Dof_max  \n",
       "0                   20.594827               1.9217  \n",
       "\n",
       "[1 rows x 53 columns]"
      ]
     },
     "execution_count": null,
     "metadata": {},
     "output_type": "execute_result"
    }
   ],
   "source": [
    "# sanity check\n",
    "train.head(1)"
   ]
  },
  {
   "cell_type": "markdown",
   "metadata": {},
   "source": [
    "## Dropping columns"
   ]
  },
  {
   "cell_type": "markdown",
   "metadata": {},
   "source": [
    "As explained in the Kaggle [docs](https://www.kaggle.com/c/flavours-of-physics/data)\n",
    "\n",
    "> The test dataset has all the columns that training.csv has, except mass, production, min_ANNmuon, and signal. \n",
    "\n",
    "so we need to remove these columns to prevent [**data leakage**](https://www.kaggle.com/dansbecker/data-leakage), where a model is trained on features that are not present in the test data. \n",
    "\n",
    "<div style=\"text-align: center\">\n",
    "<img src='images/data_leakage.png'>\n",
    "<p style=\"text-align: center;\"> <b>Figure reference:</b> https://www.kaggle.com/dansbecker/data-leakage </p>\n",
    "</div>\n",
    "\n",
    "One way to remove unwanted columns is via the `DataFrame.drop()` method, so let's remove these 3 columns from the training set, along with `SPDHits` which is described in the competition [forum](https://www.kaggle.com/c/flavours-of-physics/discussion) as causing problems in the final evaluation:"
   ]
  },
  {
   "cell_type": "code",
   "execution_count": null,
   "metadata": {},
   "outputs": [],
   "source": [
    "cols_to_drop = [\"mass\", \"production\", \"min_ANNmuon\", \"SPDhits\"]\n",
    "train.drop(columns=cols_to_drop, axis=1, inplace=True)"
   ]
  },
  {
   "cell_type": "markdown",
   "metadata": {},
   "source": [
    "> Note: You will often encounter the cryptic axis parameter when dealing with `pandas.DataFrame` and `pandas.Series` objects. This parameter is used to specify along which dimension we want to apply a given transformation - see the figure below for a graphical representation."
   ]
  },
  {
   "cell_type": "markdown",
   "metadata": {},
   "source": [
    "<div style=\"text-align: center\">\n",
    "<img src='./images/dataframe-series-axes.png' width='700'>\n",
    "<p style=\"text-align: center;\"> <b>Figure:</b> Visualisation of the <code>axis</code> parameter in pandas. </p>\n",
    "</div>"
   ]
  },
  {
   "cell_type": "markdown",
   "metadata": {},
   "source": [
    "## Introducing scikit-learn"
   ]
  },
  {
   "cell_type": "markdown",
   "metadata": {},
   "source": [
    "Now that we've checked that the training data is clean and free from obvious anomalies, it's time to train our model! To do so, we will make use of the scikit-learn library.\n",
    "\n",
    "scikit-learn is one of the best known Python libraries for machine learning and provides efficient implementations of a large number of common algorithms. It has a uniform _Estimator API_ as well as excellent online documentation. The main benefit of its API is that once you understand the basic use and syntax of scikit-learn for one type of model, switching to a new model or algorithm is very easy.\n",
    "\n",
    "**Basics of the API**\n",
    "\n",
    "The most common steps one takes when building a model in scikit-learn are:\n",
    "1. Choose a class of model by importing the appropriate estimator class from scikit-learn.\n",
    "2. Choose model _hyperparameters_ by instantiating this class with the desired values.\n",
    "3. Arrange data into a feature matrix and target vector (see discussion below).\n",
    "4. Fit the model to your data by calling the `fit()` method.\n",
    "5. Evaluate the predictions of the model:\n",
    "    * For supervised learning we typically predict _labels_ for new data using the `predict()` method.\n",
    "    * For unsupervised learning, we often transform or infer properties of the data using the `transform()` or `predict()` methods.\n",
    "    \n",
    "Let's go through each of these steps to build a Random Forest regressor to predict California housing prices."
   ]
  },
  {
   "cell_type": "markdown",
   "metadata": {},
   "source": [
    "### Choose a model"
   ]
  },
  {
   "cell_type": "markdown",
   "metadata": {},
   "source": [
    "In scikit-learn, every class of model is represented by a Python class. We want a Random Forest classifier, so looking at the online [docs](https://scikit-learn.org/stable/modules/generated/sklearn.ensemble.RandomForestClassifier.html#sklearn.ensemble.RandomForestClassifier) we should import the `RandomForestClasifier`:"
   ]
  },
  {
   "cell_type": "code",
   "execution_count": null,
   "metadata": {},
   "outputs": [],
   "source": [
    "from sklearn.ensemble import RandomForestClassifier"
   ]
  },
  {
   "cell_type": "markdown",
   "metadata": {},
   "source": [
    "### Choose hyperparameters"
   ]
  },
  {
   "cell_type": "markdown",
   "metadata": {},
   "source": [
    "Once we have chosen our model class, there are still some options open to us:\n",
    "\n",
    "* What is the maximum depth of the tree? The default is `None` which means the nodes are expanded until all leaves are pure.\n",
    "* Other parameters can be found in the [docs](https://scikit-learn.org/stable/modules/generated/sklearn.tree.DecisionTreeClassifier.html#sklearn.tree.DecisionTreeClassifier), but for now we take a simple model with just 20 trees.\n",
    "\n",
    "The above choices are often referred to as _hyperparameters_ or parameters that must be set before the model is fit to the data. We can instantiate the `RandomForestClassifier` class and specify the desired hyperparameters as follows:"
   ]
  },
  {
   "cell_type": "code",
   "execution_count": null,
   "metadata": {},
   "outputs": [],
   "source": [
    "model = RandomForestClassifier(n_estimators=20, n_jobs=-1)"
   ]
  },
  {
   "cell_type": "markdown",
   "metadata": {},
   "source": [
    "### Arrange data into a feature matrix and target vector"
   ]
  },
  {
   "cell_type": "markdown",
   "metadata": {},
   "source": [
    "scikit-learn requires that the data be arranged into a two-dimensional feature matrix and a one-dimensional target array. By convention: \n",
    "\n",
    "* The feature matrix is often stored in a variable called `X`. This matrix is typically two-dimensional with shape `[n_samples, n_features]`, where `n_samples` refers to the number of rows (i.e. events in our case) and `n_features` refers to all columns except `signal` which is our target.\n",
    "* The target or label array is usually denoted by `y`."
   ]
  },
  {
   "cell_type": "code",
   "execution_count": null,
   "metadata": {},
   "outputs": [],
   "source": [
    "X = train.drop(\"signal\", axis=1)\n",
    "y = train[\"signal\"]"
   ]
  },
  {
   "cell_type": "markdown",
   "metadata": {},
   "source": [
    "### Fit the model to your data"
   ]
  },
  {
   "cell_type": "markdown",
   "metadata": {},
   "source": [
    "Now it is time to apply our model to data! This can be done with the `fit()` method:"
   ]
  },
  {
   "cell_type": "code",
   "execution_count": null,
   "metadata": {},
   "outputs": [
    {
     "data": {
      "text/plain": [
       "RandomForestClassifier(bootstrap=True, ccp_alpha=0.0, class_weight=None,\n",
       "                       criterion='gini', max_depth=None, max_features='auto',\n",
       "                       max_leaf_nodes=None, max_samples=None,\n",
       "                       min_impurity_decrease=0.0, min_impurity_split=None,\n",
       "                       min_samples_leaf=1, min_samples_split=2,\n",
       "                       min_weight_fraction_leaf=0.0, n_estimators=20, n_jobs=-1,\n",
       "                       oob_score=False, random_state=None, verbose=0,\n",
       "                       warm_start=False)"
      ]
     },
     "execution_count": null,
     "metadata": {},
     "output_type": "execute_result"
    }
   ],
   "source": [
    "model.fit(X, y)"
   ]
  },
  {
   "cell_type": "markdown",
   "metadata": {},
   "source": [
    "### Evaluate the predictions"
   ]
  },
  {
   "cell_type": "markdown",
   "metadata": {},
   "source": [
    "The final step is to generate predictions and evaluate them against some performance metric, e.g. accuracy:"
   ]
  },
  {
   "cell_type": "code",
   "execution_count": null,
   "metadata": {},
   "outputs": [
    {
     "data": {
      "text/plain": [
       "0.9977499148816484"
      ]
     },
     "execution_count": null,
     "metadata": {},
     "output_type": "execute_result"
    }
   ],
   "source": [
    "preds = model.predict(X)\n",
    "accuracy_score(y, preds)"
   ]
  },
  {
   "cell_type": "markdown",
   "metadata": {},
   "source": [
    "Wait, wat!? How can the Random Forest model have almost no error at all? Is this a perfect model? Of course it is much more likely that the model has badly overfit the data. To be sure we need to use part of the training set for training and part for model validation."
   ]
  },
  {
   "cell_type": "markdown",
   "metadata": {},
   "source": [
    "> Warning: Evaluating our model's predictions on the same data it was trained on is almost always a recipe for disaster! Why? The problem is that the model may memorise the structure of the data it sees and fail to provide good predictions when shown new data."
   ]
  },
  {
   "cell_type": "markdown",
   "metadata": {},
   "source": [
    "## Better evaluation using training and validation splits"
   ]
  },
  {
   "cell_type": "markdown",
   "metadata": {},
   "source": [
    "One way to measure how well a model will generalise to new cases is to split your data into two sets: the _**training set**_ and the _**validation set**_. As these names imply, you train your model using the training set and validate it using the validation set. The error rate on new cases is called the _**generalisation error**_ and by evaluating your model on the validation set, you get an estimation of this error.\n",
    "\n",
    "Creating a validation set is theoretically quite simple: just pick some instances randomly and set them aside (we set the random number generator's seed `random_state` so that is always generates the same shuffled indices):"
   ]
  },
  {
   "cell_type": "code",
   "execution_count": null,
   "metadata": {},
   "outputs": [
    {
     "name": "stdout",
     "output_type": "stream",
     "text": [
      "Dataset split: 54042 train rows + 13511 valid rows\n"
     ]
    }
   ],
   "source": [
    "X_train, X_valid, y_train, y_valid = train_test_split(X, y, test_size=0.2)\n",
    "\n",
    "print(f\"Dataset split: {len(X_train)} train rows + {len(X_valid)} valid rows\")"
   ]
  },
  {
   "cell_type": "markdown",
   "metadata": {},
   "source": [
    "## Baseline model"
   ]
  },
  {
   "cell_type": "markdown",
   "metadata": {},
   "source": [
    "With these two datasets, we first fit on the training set and evaluate the prediction on the validation one. To simplify the evaluation of our models, let's write a simple function to keep track of the scores:"
   ]
  },
  {
   "cell_type": "code",
   "execution_count": null,
   "metadata": {},
   "outputs": [],
   "source": [
    "def print_scores(fitted_model):\n",
    "    res = {\n",
    "        \"Accuracy on train:\": accuracy_score(fitted_model.predict(X_train), y_train),\n",
    "        \"ROC AUC on train:\": roc_auc_score(\n",
    "            y_train, fitted_model.predict_proba(X_train)[:, 1]\n",
    "        ),\n",
    "        \"Accuracy on valid:\": accuracy_score(fitted_model.predict(X_valid), y_valid),\n",
    "        \"ROC AUC on valid:\": roc_auc_score(\n",
    "            y_valid, fitted_model.predict_proba(X_valid)[:, 1]\n",
    "        ),\n",
    "    }\n",
    "    if hasattr(fitted_model, \"oob_score_\"):\n",
    "        res[\"OOB accuracy:\"] = fitted_model.oob_score_\n",
    "\n",
    "    for k, v in res.items():\n",
    "        print(k, round(v, 3))"
   ]
  },
  {
   "cell_type": "code",
   "execution_count": null,
   "metadata": {},
   "outputs": [
    {
     "data": {
      "text/plain": [
       "RandomForestClassifier(bootstrap=True, ccp_alpha=0.0, class_weight=None,\n",
       "                       criterion='gini', max_depth=None, max_features='auto',\n",
       "                       max_leaf_nodes=None, max_samples=None,\n",
       "                       min_impurity_decrease=0.0, min_impurity_split=None,\n",
       "                       min_samples_leaf=1, min_samples_split=2,\n",
       "                       min_weight_fraction_leaf=0.0, n_estimators=20, n_jobs=-1,\n",
       "                       oob_score=False, random_state=None, verbose=0,\n",
       "                       warm_start=False)"
      ]
     },
     "execution_count": null,
     "metadata": {},
     "output_type": "execute_result"
    }
   ],
   "source": [
    "model = RandomForestClassifier(n_estimators=20, n_jobs=-1)\n",
    "model.fit(X_train, y_train)"
   ]
  },
  {
   "cell_type": "code",
   "execution_count": null,
   "metadata": {},
   "outputs": [
    {
     "name": "stdout",
     "output_type": "stream",
     "text": [
      "Accuracy on train: 0.998\n",
      "ROC AUC on train: 1.0\n",
      "Accuracy on valid: 0.86\n",
      "ROC AUC on valid: 0.924\n"
     ]
    }
   ],
   "source": [
    "print_scores(model)"
   ]
  },
  {
   "cell_type": "markdown",
   "metadata": {},
   "source": [
    "## ROC Curves and AUC\n",
    "Note that in addition to accuracy, we also show a second value, the _**Area Under the ROC Curve**_ (AUC). The AUC is a good summary statistic of the predictiveness of a binary classifier. It varies from zero to one, and a value of 0.5 corresponds to randomness (the classifier cannot distinguish at all between \"signal\" and \"background\"), while a value of 1.0 means that it is perfect.\n",
    "\n",
    "The \"ROC\" refers to the Receiver Operating Characteristic curve which plots the _true positive rate_ \n",
    "\n",
    "$$ \\mathrm{TPR} = \\frac{\\mathrm{TP}}{\\mathrm{TP} + \\mathrm{FP}} \\,, \\qquad \\mathrm{TP\\, (FP)}  = \\mathrm{number\\, of\\, true\\, (false) \\,positives}\\,,$$\n",
    "\n",
    "against the _false positive rate_ FPR, where the FPR is the ratio of negative instances that are incorrectly classified as positive. In general there is a tradeoff between these two quantities: the higher the TPR, the more false positives (FPR) the classifier produces. A good classifier stays as close to the top-left corner of a ROC curve plot as possible.\n",
    "\n",
    "In scikit-learn we can visualise the ROC curve of an estimator using the plotting API:"
   ]
  },
  {
   "cell_type": "code",
   "execution_count": null,
   "metadata": {},
   "outputs": [
    {
     "data": {
      "image/png": "[encoded data removed]",
      "text/plain": [
       "<Figure size 432x288 with 1 Axes>"
      ]
     },
     "metadata": {},
     "output_type": "display_data"
    }
   ],
   "source": [
    "plot_roc_curve(model, X_valid, y_valid)\n",
    "plt.show()"
   ]
  },
  {
   "cell_type": "markdown",
   "metadata": {},
   "source": [
    "This is _almost_ what we need, except that we need to introduce weights, as described in the competition's evaluation:\n",
    "\n",
    "> The evaluation metric for this competition is Weighted Area Under the ROC Curve. The ROC curve is divided into sections based on the True Positive Rate (TPR). To calculate the total area, multiply the area with TPR in [0., 0.2] by weight 2.0, the area with TPR in [0.2, 0.4] by 1.5, the area with TPR [0.4, 0.6] with weight 1.0, and the area with TPR [0.6, 0.8] with weight 0.5. Anything above a TPR of 0.8 has weight 0.\n",
    "\n",
    "<div style=\"text-align: center\">\n",
    "<img src='./images/weighted_roc.png' width='700'>\n",
    "<p style=\"text-align: center;\"> <b>Figure reference:</b> https://www.kaggle.com/c/flavours-of-physics/overview/evaluation </p>\n",
    "</div>"
   ]
  },
  {
   "cell_type": "markdown",
   "metadata": {},
   "source": [
    "We can evaluate the _weighted_ ROC AUC using the helper functions from the competition ([link](https://github.com/yandexdataschool/flavours-of-physics-start):"
   ]
  },
  {
   "cell_type": "code",
   "execution_count": null,
   "metadata": {},
   "outputs": [
    {
     "data": {
      "text/plain": [
       "0.9176788124156545"
      ]
     },
     "execution_count": null,
     "metadata": {},
     "output_type": "execute_result"
    }
   ],
   "source": [
    "# calculate predictions\n",
    "preds = model.predict(X_valid)\n",
    "# evaluate with weighted ROC AUC\n",
    "roc_auc_truncated(y_valid, preds)"
   ]
  },
  {
   "cell_type": "markdown",
   "metadata": {},
   "source": [
    "This seems like a decent score for our baseline model, so let's generate predictions on the test set and prepare a Kaggle submission."
   ]
  },
  {
   "cell_type": "markdown",
   "metadata": {},
   "source": [
    "## Prepare Kaggle submission"
   ]
  },
  {
   "cell_type": "markdown",
   "metadata": {},
   "source": [
    "Before we can submit our model's predictions, we need to pass two consistency checks:\n",
    "\n",
    "**_Real vs simulation test_**\n",
    "> Since the classifier is trained on a mix of simulated signal and real data background, it is possible to reach a high performance by picking features that are not perfectly modeled in the simulation. We require that the classifier not have a large discrepancy when applied to real and simulated data.\n",
    ">\n",
    "> To verify this, we use a control channel, Ds → φπ, that has a similar topology as the signal decay, τ → 3μ. Ds → φπ is a much more well-known, well-observed behavior, as it happens more frequently. We provide both data and simulation samples for this decay, to which the classifier is applied. A Kolmogorov–Smirnov (KS) test is used to evaluate the differences between the classifier distribution on each sample.\n",
    ">\n",
    "> Ds → φπ data is not included in the training set. This control channel data is used purely in the test set as \"ignored\" data, meaning that they don’t contribute to the final scoring. The control channel dataset is used purely in Kolmogorov–Smirnov test. We require the KS-value of the test to be smaller than 0.09. Only when a submission can pass the agreement test on these ignored data, we can then regard the predictions as valid, and score on the submission.\n",
    "\n",
    "**_Mass correlation test_**\n",
    "\n",
    "> Each particle has its own mass. In an ideal world, one would just the mass of a particle to tell which particle it is. However, in reality, mass is an estimation, and it isn't a feature that scientists trust when building a model. Correlations with mass can cause an artificial signal-like mass peak or lead to incorrect background estimations. \n",
    "> \n",
    "> The mass column is not included in the test dataset. However, we use the hidden mass information to perform a Cramer-von Mises (cvm) test. This test iteratively compares two distributions of a) predicted values from submission for entire dataset and b) predicted values within a certain mass region in rolling window fashion along the whole mass range. Then we get average value for those checks. Getting similar distributions for all mass sub-regions means that your classifier is not correlated with the mass. Your submission must give a cvm value less than 0.002 to pass the test. \n",
    "\n",
    "The datasets needed for these consistency checks can be downloaded as follows:"
   ]
  },
  {
   "cell_type": "code",
   "execution_count": null,
   "metadata": {},
   "outputs": [
    {
     "name": "stdout",
     "output_type": "stream",
     "text": [
      "Dataset already exists at '../data/tau_decays_check_agreement.csv' and is not downloaded again.\n",
      "Dataset already exists at '../data/tau_decays_check_correlation.csv' and is not downloaded again.\n"
     ]
    }
   ],
   "source": [
    "download_dataset(\"tau_decays_check_agreement.csv\")\n",
    "download_dataset(\"tau_decays_check_correlation.csv\")"
   ]
  },
  {
   "cell_type": "markdown",
   "metadata": {},
   "source": [
    "Let's load them as `pandas.DataFrame` objects"
   ]
  },
  {
   "cell_type": "code",
   "execution_count": null,
   "metadata": {},
   "outputs": [],
   "source": [
    "check_agreement = pd.read_csv(DATA / \"tau_decays_check_agreement.csv\")\n",
    "check_correlation = pd.read_csv(DATA / \"tau_decays_check_correlation.csv\")"
   ]
  },
  {
   "cell_type": "markdown",
   "metadata": {},
   "source": [
    "and include the new features"
   ]
  },
  {
   "cell_type": "code",
   "execution_count": null,
   "metadata": {},
   "outputs": [],
   "source": [
    "check_agreement = add_features(check_agreement)\n",
    "check_correlation = add_features(check_correlation)"
   ]
  },
  {
   "cell_type": "code",
   "execution_count": null,
   "metadata": {},
   "outputs": [],
   "source": [
    "def run_consistency_tests(fitted_model, X):\n",
    "    # exclude target from evaluation\n",
    "    cols_to_keep = X.columns\n",
    "    \n",
    "    agreement_probs = model.predict_proba(check_agreement[cols_to_keep])[:, 1]\n",
    "    print(\"Checking agreement...\")\n",
    "    ks = compute_ks(\n",
    "        agreement_probs[check_agreement[\"signal\"] == 0],\n",
    "        agreement_probs[check_agreement[\"signal\"] == 1],\n",
    "        check_agreement[check_agreement[\"signal\"] == 0][\"weight\"].values,\n",
    "        check_agreement[check_agreement[\"signal\"] == 1][\"weight\"].values,\n",
    "    )\n",
    "    print(f\"KS metric {ks:.3},  {ks < 0.09}\")\n",
    "\n",
    "    correlation_probs = model.predict_proba(check_correlation[cols_to_keep])[:, 1]\n",
    "    print(\"Checking correlation...\")\n",
    "    cvm = compute_cvm(correlation_probs, check_correlation[\"mass\"])\n",
    "    print(f\"CvM metric {cvm:.3f}, {cvm < 0.002}\")"
   ]
  },
  {
   "cell_type": "code",
   "execution_count": null,
   "metadata": {},
   "outputs": [
    {
     "name": "stdout",
     "output_type": "stream",
     "text": [
      "Checking agreement...\n",
      "KS metric 0.0449,  True\n",
      "Checking correlation...\n",
      "CvM metric 0.002, True\n"
     ]
    }
   ],
   "source": [
    "run_consistency_tests(model, X)"
   ]
  },
  {
   "cell_type": "markdown",
   "metadata": {},
   "source": [
    "Our model passes the tests, so let wrap up by generating the predictions on the test set:"
   ]
  },
  {
   "cell_type": "code",
   "execution_count": null,
   "metadata": {},
   "outputs": [],
   "source": [
    "# score 0.97514 on public leaderboard\n",
    "test_probs = model.predict_proba(test[cols_to_keep])[:, 1]\n",
    "\n",
    "submission = pd.DataFrame({\"id\": test[\"id\"], \"prediction\": test_probs})\n",
    "submission.to_csv(DATA / \"rf_submission.csv\", index=False)"
   ]
  },
  {
   "cell_type": "markdown",
   "metadata": {},
   "source": [
    "## Exercise"
   ]
  },
  {
   "cell_type": "code",
   "execution_count": null,
   "metadata": {},
   "outputs": [],
   "source": []
  }
 ],
 "metadata": {
  "kernelspec": {
   "display_name": "Python 3",
   "language": "python",
   "name": "python3"
  }
 },
 "nbformat": 4,
 "nbformat_minor": 4
}
