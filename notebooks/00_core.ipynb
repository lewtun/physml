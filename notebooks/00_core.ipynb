{
 "cells": [
  {
   "cell_type": "code",
   "execution_count": null,
   "metadata": {},
   "outputs": [],
   "source": [
    "# default_exp core"
   ]
  },
  {
   "cell_type": "markdown",
   "metadata": {},
   "source": [
    "# Core library\n",
    "\n",
    "> Helper functions used throughout the lessons"
   ]
  },
  {
   "cell_type": "code",
   "execution_count": null,
   "metadata": {},
   "outputs": [],
   "source": [
    "# export\n",
    "import pandas as pd\n",
    "from nbdev.showdoc import *\n",
    "import os\n",
    "import gdown\n",
    "import numpy as np\n",
    "import seaborn as sns\n",
    "import matplotlib.pyplot as plt"
   ]
  },
  {
   "cell_type": "markdown",
   "metadata": {},
   "source": [
    "## Datasets"
   ]
  },
  {
   "cell_type": "code",
   "execution_count": null,
   "metadata": {},
   "outputs": [],
   "source": [
    "# export\n",
    "def download_dataset(dataset_name: str):\n",
    "    \"\"\"Download datasets from Google Drive.\"\"\"\n",
    "\n",
    "    name_to_id = {\n",
    "        \"susy.csv.gz\": \"1rnR1v-BkMOtzV80R7jFyU1cwO3fGYrQs\",\n",
    "        \"susy.feather\": \"1PxCruwO42GV7FKtwZDXah7iGjDib7YPM\",\n",
    "        \"susy_train.feather\": \"1ezeCZycZ3BrEh-qOLiSJF40YowYEbbTH\",\n",
    "        \"susy_test.feather\": \"1UM8sheb4jzQa16haG6HnVbpJCxZwN2yE\",\n",
    "        \"susy_sample.feather\": \"1l4x_uBeup4eciLDK4YjnfY_G8yTpXLkP\",\n",
    "    }\n",
    "\n",
    "    path = \"../data/\"\n",
    "    os.makedirs(path, exist_ok=True)\n",
    "    gdrive_path = \"https://drive.google.com/uc?id=\"\n",
    "    if dataset_name in name_to_id:\n",
    "        if os.path.exists(path + dataset_name):\n",
    "            print(\n",
    "                f\"Dataset already exists at '{path + dataset_name}' and is not downloaded again.\"\n",
    "            )\n",
    "            return\n",
    "        try:\n",
    "            file_url = gdrive_path + name_to_id[dataset_name]\n",
    "            gdown.download(file_url, path + dataset_name, quiet=True)\n",
    "        except Exception as e:\n",
    "            print(\"Something went wrong during the download! Try again.\")\n",
    "            raise e\n",
    "        print(f\"Download of {dataset_name} dataset complete.\")\n",
    "    else:\n",
    "        raise KeyError(\"File not on Google Drive.\")"
   ]
  },
  {
   "cell_type": "markdown",
   "metadata": {},
   "source": [
    "### SUSY"
   ]
  },
  {
   "cell_type": "markdown",
   "metadata": {},
   "source": [
    "The SUSY dataset from the [UCI Machine Learning repository](http://archive.ics.uci.edu/ml/datasets/SUSY#):"
   ]
  },
  {
   "cell_type": "code",
   "execution_count": null,
   "metadata": {},
   "outputs": [
    {
     "name": "stdout",
     "output_type": "stream",
     "text": [
      "Download of susy.csv.gz dataset complete.\n"
     ]
    }
   ],
   "source": [
    "download_dataset(\"susy.csv.gz\")"
   ]
  },
  {
   "cell_type": "markdown",
   "metadata": {},
   "source": [
    "A compressed version in [feather format](https://blog.rstudio.com/2016/03/29/feather/) is also available for faster loading in-class:"
   ]
  },
  {
   "cell_type": "code",
   "execution_count": null,
   "metadata": {},
   "outputs": [
    {
     "name": "stdout",
     "output_type": "stream",
     "text": [
      "Download of susy.feather dataset complete.\n"
     ]
    }
   ],
   "source": [
    "download_dataset(\"susy.feather\")"
   ]
  },
  {
   "cell_type": "markdown",
   "metadata": {},
   "source": [
    "To get the training (first 4,500,000 rows) and test (last 500,000 rows) sets, run:"
   ]
  },
  {
   "cell_type": "code",
   "execution_count": null,
   "metadata": {},
   "outputs": [
    {
     "name": "stdout",
     "output_type": "stream",
     "text": [
      "Download of susy_train.feather dataset complete.\n",
      "Download of susy_test.feather dataset complete.\n"
     ]
    }
   ],
   "source": [
    "download_dataset(\"susy_train.feather\")\n",
    "download_dataset(\"susy_test.feather\")"
   ]
  },
  {
   "cell_type": "markdown",
   "metadata": {},
   "source": [
    "To get a random sample of 100,000 rows from `susy_train`, run:"
   ]
  },
  {
   "cell_type": "code",
   "execution_count": null,
   "metadata": {},
   "outputs": [
    {
     "name": "stdout",
     "output_type": "stream",
     "text": [
      "Download of susy_sample.feather dataset complete.\n"
     ]
    }
   ],
   "source": [
    "download_dataset(\"susy_sample.feather\")"
   ]
  },
  {
   "cell_type": "markdown",
   "metadata": {},
   "source": [
    "## Data wrangling"
   ]
  },
  {
   "cell_type": "code",
   "execution_count": null,
   "metadata": {},
   "outputs": [],
   "source": [
    "# export\n",
    "def display_large(df):\n",
    "    \"\"\"Displays up to 1000 columns and rows of pandas.DataFrame or pandas.Series objects.\"\"\"\n",
    "    with pd.option_context(\"display.max_rows\", 1000, \"display.max_columns\", 1000):\n",
    "        display(df)"
   ]
  },
  {
   "cell_type": "code",
   "execution_count": null,
   "metadata": {},
   "outputs": [],
   "source": [
    "# export\n",
    "def rf_feature_importance(fitted_model, df):\n",
    "    \"Creates a pandas.Dataframe of a Random Forest's feature importance per column.\"\n",
    "    return pd.DataFrame(\n",
    "        {\"Column\": df.columns, \"Importance\": fitted_model.feature_importances_}\n",
    "    ).sort_values(\"Importance\", ascending=False)"
   ]
  },
  {
   "cell_type": "markdown",
   "metadata": {},
   "source": [
    "## Data visualisation"
   ]
  },
  {
   "cell_type": "code",
   "execution_count": null,
   "metadata": {},
   "outputs": [],
   "source": [
    "# export\n",
    "def plot_feature_importance(feature_importance):\n",
    "    fig, ax = plt.subplots(figsize=(12, 8))\n",
    "    return sns.barplot(y=\"Column\", x=\"Importance\", data=feature_importance, color=\"b\")"
   ]
  }
 ],
 "metadata": {
  "kernelspec": {
   "display_name": "Python 3",
   "language": "python",
   "name": "python3"
  }
 },
 "nbformat": 4,
 "nbformat_minor": 4
}
